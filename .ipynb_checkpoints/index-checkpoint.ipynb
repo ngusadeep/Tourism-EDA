{
 "cells": [
  {
   "cell_type": "markdown",
   "metadata": {},
   "source": [
    "## **Exploratory Data Analysis for Tourism Sector in Tanzania.**"
   ]
  },
  {
   "cell_type": "markdown",
   "metadata": {},
   "source": [
    "### **1. Understand the Problem Statement**\n",
    "\n",
    "Tourism is a vital pillar of Tanzania’s economy, contributing significantly to foreign exchange earnings, employment, and community development. Renowned globally for attractions such as Serengeti National Park, Mount Kilimanjaro, and Zanzibar beaches, the country draws millions of visitors annually.\n",
    "\n",
    "However, there is limited data-driven understanding of visitor demographics, seasonal patterns, and revenue drivers. This lack of insight hinders informed decision-making for policymakers, tourism boards, and stakeholders, resulting in inefficiencies in marketing strategies, resource allocation, and sustainable sector planning.\n",
    "\n",
    "To address this, there is a need to analyze historical tourism data to uncover patterns in tourist arrivals, spending, preferences, and peak seasons. Furthermore, a predictive model can be developed to classify and forecast tourist flow levels (e.g., \"High\", \"Medium\", or \"Low\") and segment visitors based on key attributes like source market or package preferences.\n",
    "\n",
    "By combining Exploratory Data Analysis (EDA) with predictive modeling, this project aims to provide actionable insights and build a foundation for data-driven decision-making in Tanzania’s tourism sector.\n",
    "\n"
   ]
  },
  {
   "cell_type": "markdown",
   "metadata": {},
   "source": [
    "##### Import libraries."
   ]
  },
  {
   "cell_type": "code",
   "execution_count": 65,
   "metadata": {},
   "outputs": [],
   "source": [
    "import pandas as pd\n",
    "import matplotlib.pyplot as pyplot\n",
    "import numpy as np"
   ]
  },
  {
   "cell_type": "markdown",
   "metadata": {},
   "source": [
    "##### Load Dataset"
   ]
  },
  {
   "cell_type": "code",
   "execution_count": 66,
   "metadata": {},
   "outputs": [],
   "source": [
    "data = pd.read_csv('./datasets/Train.csv')"
   ]
  },
  {
   "cell_type": "code",
   "execution_count": 67,
   "metadata": {},
   "outputs": [
    {
     "data": {
      "text/html": [
       "<div>\n",
       "<style scoped>\n",
       "    .dataframe tbody tr th:only-of-type {\n",
       "        vertical-align: middle;\n",
       "    }\n",
       "\n",
       "    .dataframe tbody tr th {\n",
       "        vertical-align: top;\n",
       "    }\n",
       "\n",
       "    .dataframe thead th {\n",
       "        text-align: right;\n",
       "    }\n",
       "</style>\n",
       "<table border=\"1\" class=\"dataframe\">\n",
       "  <thead>\n",
       "    <tr style=\"text-align: right;\">\n",
       "      <th></th>\n",
       "      <th>ID</th>\n",
       "      <th>country</th>\n",
       "      <th>age_group</th>\n",
       "      <th>travel_with</th>\n",
       "      <th>total_female</th>\n",
       "      <th>total_male</th>\n",
       "      <th>purpose</th>\n",
       "      <th>main_activity</th>\n",
       "      <th>info_source</th>\n",
       "      <th>tour_arrangement</th>\n",
       "      <th>...</th>\n",
       "      <th>package_transport_tz</th>\n",
       "      <th>package_sightseeing</th>\n",
       "      <th>package_guided_tour</th>\n",
       "      <th>package_insurance</th>\n",
       "      <th>night_mainland</th>\n",
       "      <th>night_zanzibar</th>\n",
       "      <th>payment_mode</th>\n",
       "      <th>first_trip_tz</th>\n",
       "      <th>most_impressing</th>\n",
       "      <th>total_cost</th>\n",
       "    </tr>\n",
       "  </thead>\n",
       "  <tbody>\n",
       "    <tr>\n",
       "      <th>0</th>\n",
       "      <td>tour_0</td>\n",
       "      <td>SWIZERLAND</td>\n",
       "      <td>45-64</td>\n",
       "      <td>Friends/Relatives</td>\n",
       "      <td>1.0</td>\n",
       "      <td>1.0</td>\n",
       "      <td>Leisure and Holidays</td>\n",
       "      <td>Wildlife tourism</td>\n",
       "      <td>Friends, relatives</td>\n",
       "      <td>Independent</td>\n",
       "      <td>...</td>\n",
       "      <td>No</td>\n",
       "      <td>No</td>\n",
       "      <td>No</td>\n",
       "      <td>No</td>\n",
       "      <td>13.0</td>\n",
       "      <td>0.0</td>\n",
       "      <td>Cash</td>\n",
       "      <td>No</td>\n",
       "      <td>Friendly People</td>\n",
       "      <td>674602.5</td>\n",
       "    </tr>\n",
       "    <tr>\n",
       "      <th>1</th>\n",
       "      <td>tour_10</td>\n",
       "      <td>UNITED KINGDOM</td>\n",
       "      <td>25-44</td>\n",
       "      <td>NaN</td>\n",
       "      <td>1.0</td>\n",
       "      <td>0.0</td>\n",
       "      <td>Leisure and Holidays</td>\n",
       "      <td>Cultural tourism</td>\n",
       "      <td>others</td>\n",
       "      <td>Independent</td>\n",
       "      <td>...</td>\n",
       "      <td>No</td>\n",
       "      <td>No</td>\n",
       "      <td>No</td>\n",
       "      <td>No</td>\n",
       "      <td>14.0</td>\n",
       "      <td>7.0</td>\n",
       "      <td>Cash</td>\n",
       "      <td>Yes</td>\n",
       "      <td>Wonderful Country, Landscape, Nature</td>\n",
       "      <td>3214906.5</td>\n",
       "    </tr>\n",
       "    <tr>\n",
       "      <th>2</th>\n",
       "      <td>tour_1000</td>\n",
       "      <td>UNITED KINGDOM</td>\n",
       "      <td>25-44</td>\n",
       "      <td>Alone</td>\n",
       "      <td>0.0</td>\n",
       "      <td>1.0</td>\n",
       "      <td>Visiting Friends and Relatives</td>\n",
       "      <td>Cultural tourism</td>\n",
       "      <td>Friends, relatives</td>\n",
       "      <td>Independent</td>\n",
       "      <td>...</td>\n",
       "      <td>No</td>\n",
       "      <td>No</td>\n",
       "      <td>No</td>\n",
       "      <td>No</td>\n",
       "      <td>1.0</td>\n",
       "      <td>31.0</td>\n",
       "      <td>Cash</td>\n",
       "      <td>No</td>\n",
       "      <td>Excellent Experience</td>\n",
       "      <td>3315000.0</td>\n",
       "    </tr>\n",
       "    <tr>\n",
       "      <th>3</th>\n",
       "      <td>tour_1002</td>\n",
       "      <td>UNITED KINGDOM</td>\n",
       "      <td>25-44</td>\n",
       "      <td>Spouse</td>\n",
       "      <td>1.0</td>\n",
       "      <td>1.0</td>\n",
       "      <td>Leisure and Holidays</td>\n",
       "      <td>Wildlife tourism</td>\n",
       "      <td>Travel, agent, tour operator</td>\n",
       "      <td>Package Tour</td>\n",
       "      <td>...</td>\n",
       "      <td>Yes</td>\n",
       "      <td>Yes</td>\n",
       "      <td>Yes</td>\n",
       "      <td>No</td>\n",
       "      <td>11.0</td>\n",
       "      <td>0.0</td>\n",
       "      <td>Cash</td>\n",
       "      <td>Yes</td>\n",
       "      <td>Friendly People</td>\n",
       "      <td>7790250.0</td>\n",
       "    </tr>\n",
       "    <tr>\n",
       "      <th>4</th>\n",
       "      <td>tour_1004</td>\n",
       "      <td>CHINA</td>\n",
       "      <td>1-24</td>\n",
       "      <td>NaN</td>\n",
       "      <td>1.0</td>\n",
       "      <td>0.0</td>\n",
       "      <td>Leisure and Holidays</td>\n",
       "      <td>Wildlife tourism</td>\n",
       "      <td>Travel, agent, tour operator</td>\n",
       "      <td>Independent</td>\n",
       "      <td>...</td>\n",
       "      <td>No</td>\n",
       "      <td>No</td>\n",
       "      <td>No</td>\n",
       "      <td>No</td>\n",
       "      <td>7.0</td>\n",
       "      <td>4.0</td>\n",
       "      <td>Cash</td>\n",
       "      <td>Yes</td>\n",
       "      <td>No comments</td>\n",
       "      <td>1657500.0</td>\n",
       "    </tr>\n",
       "  </tbody>\n",
       "</table>\n",
       "<p>5 rows × 23 columns</p>\n",
       "</div>"
      ],
      "text/plain": [
       "          ID         country age_group        travel_with  total_female  \\\n",
       "0     tour_0      SWIZERLAND     45-64  Friends/Relatives           1.0   \n",
       "1    tour_10  UNITED KINGDOM     25-44                NaN           1.0   \n",
       "2  tour_1000  UNITED KINGDOM     25-44              Alone           0.0   \n",
       "3  tour_1002  UNITED KINGDOM     25-44             Spouse           1.0   \n",
       "4  tour_1004           CHINA      1-24                NaN           1.0   \n",
       "\n",
       "   total_male                         purpose     main_activity  \\\n",
       "0         1.0            Leisure and Holidays  Wildlife tourism   \n",
       "1         0.0            Leisure and Holidays  Cultural tourism   \n",
       "2         1.0  Visiting Friends and Relatives  Cultural tourism   \n",
       "3         1.0            Leisure and Holidays  Wildlife tourism   \n",
       "4         0.0            Leisure and Holidays  Wildlife tourism   \n",
       "\n",
       "                    info_source tour_arrangement  ... package_transport_tz  \\\n",
       "0            Friends, relatives      Independent  ...                   No   \n",
       "1                        others      Independent  ...                   No   \n",
       "2            Friends, relatives      Independent  ...                   No   \n",
       "3  Travel, agent, tour operator     Package Tour  ...                  Yes   \n",
       "4  Travel, agent, tour operator      Independent  ...                   No   \n",
       "\n",
       "  package_sightseeing package_guided_tour package_insurance night_mainland  \\\n",
       "0                  No                  No                No           13.0   \n",
       "1                  No                  No                No           14.0   \n",
       "2                  No                  No                No            1.0   \n",
       "3                 Yes                 Yes                No           11.0   \n",
       "4                  No                  No                No            7.0   \n",
       "\n",
       "  night_zanzibar payment_mode  first_trip_tz  \\\n",
       "0            0.0         Cash             No   \n",
       "1            7.0         Cash            Yes   \n",
       "2           31.0         Cash             No   \n",
       "3            0.0         Cash            Yes   \n",
       "4            4.0         Cash            Yes   \n",
       "\n",
       "                        most_impressing total_cost  \n",
       "0                       Friendly People   674602.5  \n",
       "1  Wonderful Country, Landscape, Nature  3214906.5  \n",
       "2                  Excellent Experience  3315000.0  \n",
       "3                       Friendly People  7790250.0  \n",
       "4                           No comments  1657500.0  \n",
       "\n",
       "[5 rows x 23 columns]"
      ]
     },
     "execution_count": 67,
     "metadata": {},
     "output_type": "execute_result"
    }
   ],
   "source": [
    "#explore data\n",
    "data.head()"
   ]
  },
  {
   "cell_type": "markdown",
   "metadata": {},
   "source": [
    "### **2. Describe Data Structure**"
   ]
  },
  {
   "cell_type": "markdown",
   "metadata": {},
   "source": [
    "**Note:** Open the VariableDefinition file to understand the meaning of each variable in this dataset"
   ]
  },
  {
   "cell_type": "code",
   "execution_count": 68,
   "metadata": {},
   "outputs": [
    {
     "data": {
      "text/html": [
       "<div>\n",
       "<style scoped>\n",
       "    .dataframe tbody tr th:only-of-type {\n",
       "        vertical-align: middle;\n",
       "    }\n",
       "\n",
       "    .dataframe tbody tr th {\n",
       "        vertical-align: top;\n",
       "    }\n",
       "\n",
       "    .dataframe thead th {\n",
       "        text-align: right;\n",
       "    }\n",
       "</style>\n",
       "<table border=\"1\" class=\"dataframe\">\n",
       "  <thead>\n",
       "    <tr style=\"text-align: right;\">\n",
       "      <th></th>\n",
       "      <th>Column Name</th>\n",
       "      <th>Definition</th>\n",
       "    </tr>\n",
       "  </thead>\n",
       "  <tbody>\n",
       "    <tr>\n",
       "      <th>0</th>\n",
       "      <td>id</td>\n",
       "      <td>Unique identifier for each tourist</td>\n",
       "    </tr>\n",
       "    <tr>\n",
       "      <th>1</th>\n",
       "      <td>country</td>\n",
       "      <td>The country a tourist coming  from.</td>\n",
       "    </tr>\n",
       "    <tr>\n",
       "      <th>2</th>\n",
       "      <td>age_group</td>\n",
       "      <td>The age group of a tourist.</td>\n",
       "    </tr>\n",
       "    <tr>\n",
       "      <th>3</th>\n",
       "      <td>travel_with</td>\n",
       "      <td>The relation of people a tourist travel with t...</td>\n",
       "    </tr>\n",
       "    <tr>\n",
       "      <th>4</th>\n",
       "      <td>total_female</td>\n",
       "      <td>Total number of females</td>\n",
       "    </tr>\n",
       "    <tr>\n",
       "      <th>5</th>\n",
       "      <td>total_male</td>\n",
       "      <td>Total number of males</td>\n",
       "    </tr>\n",
       "    <tr>\n",
       "      <th>6</th>\n",
       "      <td>purpose</td>\n",
       "      <td>The purpose of visiting  Tanzania</td>\n",
       "    </tr>\n",
       "    <tr>\n",
       "      <th>7</th>\n",
       "      <td>main_activity</td>\n",
       "      <td>The main activity of tourism in Tanzania</td>\n",
       "    </tr>\n",
       "    <tr>\n",
       "      <th>8</th>\n",
       "      <td>infor_source</td>\n",
       "      <td>The source of information about tourism in Tan...</td>\n",
       "    </tr>\n",
       "    <tr>\n",
       "      <th>9</th>\n",
       "      <td>tour_arrangment</td>\n",
       "      <td>The arrangment of visiting Tanzania</td>\n",
       "    </tr>\n",
       "    <tr>\n",
       "      <th>10</th>\n",
       "      <td>package_transport_int</td>\n",
       "      <td>If the tour package include international tran...</td>\n",
       "    </tr>\n",
       "    <tr>\n",
       "      <th>11</th>\n",
       "      <td>package_accomodation</td>\n",
       "      <td>If the tour package include accommodation service</td>\n",
       "    </tr>\n",
       "    <tr>\n",
       "      <th>12</th>\n",
       "      <td>package_food</td>\n",
       "      <td>If the tour package include food service</td>\n",
       "    </tr>\n",
       "    <tr>\n",
       "      <th>13</th>\n",
       "      <td>package_transport_tz</td>\n",
       "      <td>If the tour package include transport service ...</td>\n",
       "    </tr>\n",
       "    <tr>\n",
       "      <th>14</th>\n",
       "      <td>package_sightseeing</td>\n",
       "      <td>If the tour package include sightseeing service</td>\n",
       "    </tr>\n",
       "    <tr>\n",
       "      <th>15</th>\n",
       "      <td>package_guided_tour</td>\n",
       "      <td>If the tour package include tour guide</td>\n",
       "    </tr>\n",
       "    <tr>\n",
       "      <th>16</th>\n",
       "      <td>package_insurance</td>\n",
       "      <td>if the tour package include insurance service</td>\n",
       "    </tr>\n",
       "    <tr>\n",
       "      <th>17</th>\n",
       "      <td>night_mainland</td>\n",
       "      <td>Number of nights a tourist spent in Tanzania m...</td>\n",
       "    </tr>\n",
       "    <tr>\n",
       "      <th>18</th>\n",
       "      <td>night_zanzibar</td>\n",
       "      <td>Number of nights a tourist spent in Zanzibar</td>\n",
       "    </tr>\n",
       "    <tr>\n",
       "      <th>19</th>\n",
       "      <td>payment_mode</td>\n",
       "      <td>The mode of payment for tourism service</td>\n",
       "    </tr>\n",
       "    <tr>\n",
       "      <th>20</th>\n",
       "      <td>first_trip_tz</td>\n",
       "      <td>If it was a first  trip to Tanzania</td>\n",
       "    </tr>\n",
       "    <tr>\n",
       "      <th>21</th>\n",
       "      <td>most_impressing</td>\n",
       "      <td>what impressed a toursit in Tanzania</td>\n",
       "    </tr>\n",
       "    <tr>\n",
       "      <th>22</th>\n",
       "      <td>total_cost</td>\n",
       "      <td>The total tourist expenditure  in TZS(currency)</td>\n",
       "    </tr>\n",
       "  </tbody>\n",
       "</table>\n",
       "</div>"
      ],
      "text/plain": [
       "              Column Name                                         Definition\n",
       "0                      id                 Unique identifier for each tourist\n",
       "1                 country                The country a tourist coming  from.\n",
       "2               age_group                        The age group of a tourist.\n",
       "3             travel_with  The relation of people a tourist travel with t...\n",
       "4            total_female                            Total number of females\n",
       "5              total_male                              Total number of males\n",
       "6                 purpose                  The purpose of visiting  Tanzania\n",
       "7           main_activity           The main activity of tourism in Tanzania\n",
       "8            infor_source  The source of information about tourism in Tan...\n",
       "9         tour_arrangment                The arrangment of visiting Tanzania\n",
       "10  package_transport_int  If the tour package include international tran...\n",
       "11   package_accomodation  If the tour package include accommodation service\n",
       "12           package_food           If the tour package include food service\n",
       "13   package_transport_tz  If the tour package include transport service ...\n",
       "14    package_sightseeing    If the tour package include sightseeing service\n",
       "15    package_guided_tour             If the tour package include tour guide\n",
       "16      package_insurance      if the tour package include insurance service\n",
       "17         night_mainland  Number of nights a tourist spent in Tanzania m...\n",
       "18         night_zanzibar       Number of nights a tourist spent in Zanzibar\n",
       "19           payment_mode            The mode of payment for tourism service\n",
       "20          first_trip_tz                If it was a first  trip to Tanzania\n",
       "21        most_impressing               what impressed a toursit in Tanzania\n",
       "22             total_cost    The total tourist expenditure  in TZS(currency)"
      ]
     },
     "metadata": {},
     "output_type": "display_data"
    }
   ],
   "source": [
    "variable_dfn = pd.read_csv('./datasets/VariableDefinitions.csv')\n",
    "display(variable_dfn)"
   ]
  },
  {
   "cell_type": "code",
   "execution_count": 69,
   "metadata": {},
   "outputs": [
    {
     "name": "stdout",
     "output_type": "stream",
     "text": [
      "Data Shape: (4809, 23)\n"
     ]
    }
   ],
   "source": [
    "#data shape\n",
    "print(f\"Data Shape: {data.shape}\")"
   ]
  },
  {
   "cell_type": "code",
   "execution_count": 70,
   "metadata": {},
   "outputs": [
    {
     "data": {
      "text/html": [
       "<div>\n",
       "<style scoped>\n",
       "    .dataframe tbody tr th:only-of-type {\n",
       "        vertical-align: middle;\n",
       "    }\n",
       "\n",
       "    .dataframe tbody tr th {\n",
       "        vertical-align: top;\n",
       "    }\n",
       "\n",
       "    .dataframe thead th {\n",
       "        text-align: right;\n",
       "    }\n",
       "</style>\n",
       "<table border=\"1\" class=\"dataframe\">\n",
       "  <thead>\n",
       "    <tr style=\"text-align: right;\">\n",
       "      <th></th>\n",
       "      <th>ID</th>\n",
       "      <th>country</th>\n",
       "      <th>age_group</th>\n",
       "      <th>travel_with</th>\n",
       "      <th>total_female</th>\n",
       "      <th>total_male</th>\n",
       "      <th>purpose</th>\n",
       "      <th>main_activity</th>\n",
       "      <th>info_source</th>\n",
       "      <th>tour_arrangement</th>\n",
       "      <th>...</th>\n",
       "      <th>package_transport_tz</th>\n",
       "      <th>package_sightseeing</th>\n",
       "      <th>package_guided_tour</th>\n",
       "      <th>package_insurance</th>\n",
       "      <th>night_mainland</th>\n",
       "      <th>night_zanzibar</th>\n",
       "      <th>payment_mode</th>\n",
       "      <th>first_trip_tz</th>\n",
       "      <th>most_impressing</th>\n",
       "      <th>total_cost</th>\n",
       "    </tr>\n",
       "  </thead>\n",
       "  <tbody>\n",
       "    <tr>\n",
       "      <th>4804</th>\n",
       "      <td>tour_993</td>\n",
       "      <td>UAE</td>\n",
       "      <td>45-64</td>\n",
       "      <td>Alone</td>\n",
       "      <td>0.0</td>\n",
       "      <td>1.0</td>\n",
       "      <td>Business</td>\n",
       "      <td>Hunting tourism</td>\n",
       "      <td>Friends, relatives</td>\n",
       "      <td>Independent</td>\n",
       "      <td>...</td>\n",
       "      <td>No</td>\n",
       "      <td>No</td>\n",
       "      <td>No</td>\n",
       "      <td>No</td>\n",
       "      <td>2.0</td>\n",
       "      <td>0.0</td>\n",
       "      <td>Credit Card</td>\n",
       "      <td>No</td>\n",
       "      <td>No comments</td>\n",
       "      <td>3315000.0</td>\n",
       "    </tr>\n",
       "    <tr>\n",
       "      <th>4805</th>\n",
       "      <td>tour_994</td>\n",
       "      <td>UNITED STATES OF AMERICA</td>\n",
       "      <td>25-44</td>\n",
       "      <td>Spouse</td>\n",
       "      <td>1.0</td>\n",
       "      <td>1.0</td>\n",
       "      <td>Leisure and Holidays</td>\n",
       "      <td>Wildlife tourism</td>\n",
       "      <td>Travel, agent, tour operator</td>\n",
       "      <td>Package Tour</td>\n",
       "      <td>...</td>\n",
       "      <td>Yes</td>\n",
       "      <td>Yes</td>\n",
       "      <td>Yes</td>\n",
       "      <td>Yes</td>\n",
       "      <td>11.0</td>\n",
       "      <td>0.0</td>\n",
       "      <td>Cash</td>\n",
       "      <td>Yes</td>\n",
       "      <td>Friendly People</td>\n",
       "      <td>10690875.0</td>\n",
       "    </tr>\n",
       "    <tr>\n",
       "      <th>4806</th>\n",
       "      <td>tour_995</td>\n",
       "      <td>NETHERLANDS</td>\n",
       "      <td>1-24</td>\n",
       "      <td>NaN</td>\n",
       "      <td>1.0</td>\n",
       "      <td>0.0</td>\n",
       "      <td>Leisure and Holidays</td>\n",
       "      <td>Wildlife tourism</td>\n",
       "      <td>others</td>\n",
       "      <td>Independent</td>\n",
       "      <td>...</td>\n",
       "      <td>No</td>\n",
       "      <td>No</td>\n",
       "      <td>No</td>\n",
       "      <td>No</td>\n",
       "      <td>3.0</td>\n",
       "      <td>7.0</td>\n",
       "      <td>Cash</td>\n",
       "      <td>Yes</td>\n",
       "      <td>Good service</td>\n",
       "      <td>2246636.7</td>\n",
       "    </tr>\n",
       "    <tr>\n",
       "      <th>4807</th>\n",
       "      <td>tour_997</td>\n",
       "      <td>SOUTH AFRICA</td>\n",
       "      <td>25-44</td>\n",
       "      <td>Friends/Relatives</td>\n",
       "      <td>1.0</td>\n",
       "      <td>1.0</td>\n",
       "      <td>Business</td>\n",
       "      <td>Beach tourism</td>\n",
       "      <td>Travel, agent, tour operator</td>\n",
       "      <td>Independent</td>\n",
       "      <td>...</td>\n",
       "      <td>No</td>\n",
       "      <td>No</td>\n",
       "      <td>No</td>\n",
       "      <td>No</td>\n",
       "      <td>5.0</td>\n",
       "      <td>0.0</td>\n",
       "      <td>Credit Card</td>\n",
       "      <td>No</td>\n",
       "      <td>Friendly People</td>\n",
       "      <td>1160250.0</td>\n",
       "    </tr>\n",
       "    <tr>\n",
       "      <th>4808</th>\n",
       "      <td>tour_999</td>\n",
       "      <td>UNITED KINGDOM</td>\n",
       "      <td>25-44</td>\n",
       "      <td>Spouse</td>\n",
       "      <td>1.0</td>\n",
       "      <td>1.0</td>\n",
       "      <td>Leisure and Holidays</td>\n",
       "      <td>Wildlife tourism</td>\n",
       "      <td>Travel, agent, tour operator</td>\n",
       "      <td>Package Tour</td>\n",
       "      <td>...</td>\n",
       "      <td>Yes</td>\n",
       "      <td>Yes</td>\n",
       "      <td>Yes</td>\n",
       "      <td>No</td>\n",
       "      <td>4.0</td>\n",
       "      <td>7.0</td>\n",
       "      <td>Cash</td>\n",
       "      <td>Yes</td>\n",
       "      <td>Friendly People</td>\n",
       "      <td>13260000.0</td>\n",
       "    </tr>\n",
       "  </tbody>\n",
       "</table>\n",
       "<p>5 rows × 23 columns</p>\n",
       "</div>"
      ],
      "text/plain": [
       "            ID                   country age_group        travel_with  \\\n",
       "4804  tour_993                       UAE     45-64              Alone   \n",
       "4805  tour_994  UNITED STATES OF AMERICA     25-44             Spouse   \n",
       "4806  tour_995               NETHERLANDS      1-24                NaN   \n",
       "4807  tour_997              SOUTH AFRICA     25-44  Friends/Relatives   \n",
       "4808  tour_999            UNITED KINGDOM     25-44             Spouse   \n",
       "\n",
       "      total_female  total_male               purpose     main_activity  \\\n",
       "4804           0.0         1.0              Business   Hunting tourism   \n",
       "4805           1.0         1.0  Leisure and Holidays  Wildlife tourism   \n",
       "4806           1.0         0.0  Leisure and Holidays  Wildlife tourism   \n",
       "4807           1.0         1.0              Business     Beach tourism   \n",
       "4808           1.0         1.0  Leisure and Holidays  Wildlife tourism   \n",
       "\n",
       "                       info_source tour_arrangement  ... package_transport_tz  \\\n",
       "4804            Friends, relatives      Independent  ...                   No   \n",
       "4805  Travel, agent, tour operator     Package Tour  ...                  Yes   \n",
       "4806                        others      Independent  ...                   No   \n",
       "4807  Travel, agent, tour operator      Independent  ...                   No   \n",
       "4808  Travel, agent, tour operator     Package Tour  ...                  Yes   \n",
       "\n",
       "     package_sightseeing package_guided_tour package_insurance night_mainland  \\\n",
       "4804                  No                  No                No            2.0   \n",
       "4805                 Yes                 Yes               Yes           11.0   \n",
       "4806                  No                  No                No            3.0   \n",
       "4807                  No                  No                No            5.0   \n",
       "4808                 Yes                 Yes                No            4.0   \n",
       "\n",
       "     night_zanzibar payment_mode  first_trip_tz  most_impressing  total_cost  \n",
       "4804            0.0  Credit Card             No      No comments   3315000.0  \n",
       "4805            0.0         Cash            Yes  Friendly People  10690875.0  \n",
       "4806            7.0         Cash            Yes     Good service   2246636.7  \n",
       "4807            0.0  Credit Card             No  Friendly People   1160250.0  \n",
       "4808            7.0         Cash            Yes  Friendly People  13260000.0  \n",
       "\n",
       "[5 rows x 23 columns]"
      ]
     },
     "execution_count": 70,
     "metadata": {},
     "output_type": "execute_result"
    }
   ],
   "source": [
    "#list first data\n",
    "data.tail()"
   ]
  },
  {
   "cell_type": "code",
   "execution_count": 71,
   "metadata": {},
   "outputs": [
    {
     "data": {
      "text/plain": [
       "<bound method NDFrame.describe of              ID                   country age_group        travel_with  \\\n",
       "0        tour_0                SWIZERLAND     45-64  Friends/Relatives   \n",
       "1       tour_10            UNITED KINGDOM     25-44                NaN   \n",
       "2     tour_1000            UNITED KINGDOM     25-44              Alone   \n",
       "3     tour_1002            UNITED KINGDOM     25-44             Spouse   \n",
       "4     tour_1004                     CHINA      1-24                NaN   \n",
       "...         ...                       ...       ...                ...   \n",
       "4804   tour_993                       UAE     45-64              Alone   \n",
       "4805   tour_994  UNITED STATES OF AMERICA     25-44             Spouse   \n",
       "4806   tour_995               NETHERLANDS      1-24                NaN   \n",
       "4807   tour_997              SOUTH AFRICA     25-44  Friends/Relatives   \n",
       "4808   tour_999            UNITED KINGDOM     25-44             Spouse   \n",
       "\n",
       "      total_female  total_male                         purpose  \\\n",
       "0              1.0         1.0            Leisure and Holidays   \n",
       "1              1.0         0.0            Leisure and Holidays   \n",
       "2              0.0         1.0  Visiting Friends and Relatives   \n",
       "3              1.0         1.0            Leisure and Holidays   \n",
       "4              1.0         0.0            Leisure and Holidays   \n",
       "...            ...         ...                             ...   \n",
       "4804           0.0         1.0                        Business   \n",
       "4805           1.0         1.0            Leisure and Holidays   \n",
       "4806           1.0         0.0            Leisure and Holidays   \n",
       "4807           1.0         1.0                        Business   \n",
       "4808           1.0         1.0            Leisure and Holidays   \n",
       "\n",
       "         main_activity                   info_source tour_arrangement  ...  \\\n",
       "0     Wildlife tourism            Friends, relatives      Independent  ...   \n",
       "1     Cultural tourism                        others      Independent  ...   \n",
       "2     Cultural tourism            Friends, relatives      Independent  ...   \n",
       "3     Wildlife tourism  Travel, agent, tour operator     Package Tour  ...   \n",
       "4     Wildlife tourism  Travel, agent, tour operator      Independent  ...   \n",
       "...                ...                           ...              ...  ...   \n",
       "4804   Hunting tourism            Friends, relatives      Independent  ...   \n",
       "4805  Wildlife tourism  Travel, agent, tour operator     Package Tour  ...   \n",
       "4806  Wildlife tourism                        others      Independent  ...   \n",
       "4807     Beach tourism  Travel, agent, tour operator      Independent  ...   \n",
       "4808  Wildlife tourism  Travel, agent, tour operator     Package Tour  ...   \n",
       "\n",
       "     package_transport_tz package_sightseeing package_guided_tour  \\\n",
       "0                      No                  No                  No   \n",
       "1                      No                  No                  No   \n",
       "2                      No                  No                  No   \n",
       "3                     Yes                 Yes                 Yes   \n",
       "4                      No                  No                  No   \n",
       "...                   ...                 ...                 ...   \n",
       "4804                   No                  No                  No   \n",
       "4805                  Yes                 Yes                 Yes   \n",
       "4806                   No                  No                  No   \n",
       "4807                   No                  No                  No   \n",
       "4808                  Yes                 Yes                 Yes   \n",
       "\n",
       "     package_insurance night_mainland night_zanzibar payment_mode  \\\n",
       "0                   No           13.0            0.0         Cash   \n",
       "1                   No           14.0            7.0         Cash   \n",
       "2                   No            1.0           31.0         Cash   \n",
       "3                   No           11.0            0.0         Cash   \n",
       "4                   No            7.0            4.0         Cash   \n",
       "...                ...            ...            ...          ...   \n",
       "4804                No            2.0            0.0  Credit Card   \n",
       "4805               Yes           11.0            0.0         Cash   \n",
       "4806                No            3.0            7.0         Cash   \n",
       "4807                No            5.0            0.0  Credit Card   \n",
       "4808                No            4.0            7.0         Cash   \n",
       "\n",
       "      first_trip_tz                       most_impressing  total_cost  \n",
       "0                No                       Friendly People    674602.5  \n",
       "1               Yes  Wonderful Country, Landscape, Nature   3214906.5  \n",
       "2                No                  Excellent Experience   3315000.0  \n",
       "3               Yes                       Friendly People   7790250.0  \n",
       "4               Yes                           No comments   1657500.0  \n",
       "...             ...                                   ...         ...  \n",
       "4804             No                           No comments   3315000.0  \n",
       "4805            Yes                       Friendly People  10690875.0  \n",
       "4806            Yes                          Good service   2246636.7  \n",
       "4807             No                       Friendly People   1160250.0  \n",
       "4808            Yes                       Friendly People  13260000.0  \n",
       "\n",
       "[4809 rows x 23 columns]>"
      ]
     },
     "execution_count": 71,
     "metadata": {},
     "output_type": "execute_result"
    }
   ],
   "source": [
    "data.describe"
   ]
  },
  {
   "cell_type": "markdown",
   "metadata": {},
   "source": [
    "### **3. Explolatory Data Analysis**\n",
    "\n",
    "This is the process of finding some insights from you dataset before create predictive models.\n",
    "**Note:** This is an important steps in your Data science workflow."
   ]
  },
  {
   "cell_type": "code",
   "execution_count": 72,
   "metadata": {},
   "outputs": [
    {
     "name": "stdout",
     "output_type": "stream",
     "text": [
      "missing values: ID                          0\n",
      "country                     0\n",
      "age_group                   0\n",
      "travel_with              1114\n",
      "total_female                3\n",
      "total_male                  5\n",
      "purpose                     0\n",
      "main_activity               0\n",
      "info_source                 0\n",
      "tour_arrangement            0\n",
      "package_transport_int       0\n",
      "package_accomodation        0\n",
      "package_food                0\n",
      "package_transport_tz        0\n",
      "package_sightseeing         0\n",
      "package_guided_tour         0\n",
      "package_insurance           0\n",
      "night_mainland              0\n",
      "night_zanzibar              0\n",
      "payment_mode                0\n",
      "first_trip_tz               0\n",
      "most_impressing           313\n",
      "total_cost                  0\n",
      "dtype: int64\n"
     ]
    }
   ],
   "source": [
    "# Check for missing values\n",
    "print('missing values:', data.isnull().sum())"
   ]
  },
  {
   "cell_type": "markdown",
   "metadata": {},
   "source": [
    "##### **Note**: Since we have missing values , then we have to replace them with real data."
   ]
  },
  {
   "cell_type": "code",
   "execution_count": 73,
   "metadata": {},
   "outputs": [
    {
     "name": "stdout",
     "output_type": "stream",
     "text": [
      "ID                       0\n",
      "country                  0\n",
      "age_group                0\n",
      "travel_with              0\n",
      "total_female             0\n",
      "total_male               0\n",
      "purpose                  0\n",
      "main_activity            0\n",
      "info_source              0\n",
      "tour_arrangement         0\n",
      "package_transport_int    0\n",
      "package_accomodation     0\n",
      "package_food             0\n",
      "package_transport_tz     0\n",
      "package_sightseeing      0\n",
      "package_guided_tour      0\n",
      "package_insurance        0\n",
      "night_mainland           0\n",
      "night_zanzibar           0\n",
      "payment_mode             0\n",
      "first_trip_tz            0\n",
      "most_impressing          0\n",
      "total_cost               0\n",
      "dtype: int64\n"
     ]
    }
   ],
   "source": [
    "# Check missing values count per column\n",
    "missing_counts = data[['travel_with', 'total_female', 'total_male', 'most_impressing']].isnull().sum()\n",
    "\n",
    "for col in ['travel_with', 'total_female', 'total_male', 'most_impressing']:\n",
    "    if data[col].isnull().sum() > 0:\n",
    "        if data[col].dtype == 'O':  # object/string type\n",
    "            data[col] = data[col].fillna('Alone')\n",
    "        else:  # numeric\n",
    "            data[col] = data[col].fillna(data[col].median())\n",
    "\n",
    "\n",
    "# Confirm no more nulls in those columns\n",
    "print(data.isnull().sum())\n"
   ]
  },
  {
   "cell_type": "markdown",
   "metadata": {},
   "source": [
    "##### since we have no missing values we can proceed to data mapping\n"
   ]
  },
  {
   "cell_type": "code",
   "execution_count": 74,
   "metadata": {},
   "outputs": [
    {
     "data": {
      "text/plain": [
       "age_group\n",
       "Young Adult     2487\n",
       "Senior Adult    1391\n",
       "Child/Youth      624\n",
       "Elder            307\n",
       "Name: count, dtype: int64"
      ]
     },
     "execution_count": 74,
     "metadata": {},
     "output_type": "execute_result"
    }
   ],
   "source": [
    "age_mapping = {\n",
    "    \"1-24\" : \"Child/Youth\",\n",
    "    \"25-44\" : \"Young Adult\",\n",
    "    \"45-64\" : \"Senior Adult\",\n",
    "    \"65+\" : \"Elder\",\n",
    "}\n",
    "\n",
    "data['age_group'] = data.age_group.map(age_mapping)\n",
    "# data.head()\n",
    "data.age_group.value_counts()"
   ]
  },
  {
   "cell_type": "markdown",
   "metadata": {},
   "source": [
    "#### we need to organize well the data \n",
    "For packages we are combining all in one column and , night_spent in tanzania mainland and zanzibar , because it is one country "
   ]
  },
  {
   "cell_type": "code",
   "execution_count": 75,
   "metadata": {},
   "outputs": [
    {
     "data": {
      "text/html": [
       "<div>\n",
       "<style scoped>\n",
       "    .dataframe tbody tr th:only-of-type {\n",
       "        vertical-align: middle;\n",
       "    }\n",
       "\n",
       "    .dataframe tbody tr th {\n",
       "        vertical-align: top;\n",
       "    }\n",
       "\n",
       "    .dataframe thead th {\n",
       "        text-align: right;\n",
       "    }\n",
       "</style>\n",
       "<table border=\"1\" class=\"dataframe\">\n",
       "  <thead>\n",
       "    <tr style=\"text-align: right;\">\n",
       "      <th></th>\n",
       "      <th>ID</th>\n",
       "      <th>country</th>\n",
       "      <th>age_group</th>\n",
       "      <th>travel_with</th>\n",
       "      <th>total_female</th>\n",
       "      <th>total_male</th>\n",
       "      <th>purpose</th>\n",
       "      <th>main_activity</th>\n",
       "      <th>info_source</th>\n",
       "      <th>tour_arrangement</th>\n",
       "      <th>payment_mode</th>\n",
       "      <th>first_trip_tz</th>\n",
       "      <th>most_impressing</th>\n",
       "      <th>total_cost</th>\n",
       "      <th>nights_stayed</th>\n",
       "      <th>package_services</th>\n",
       "    </tr>\n",
       "  </thead>\n",
       "  <tbody>\n",
       "    <tr>\n",
       "      <th>0</th>\n",
       "      <td>tour_0</td>\n",
       "      <td>SWIZERLAND</td>\n",
       "      <td>Senior Adult</td>\n",
       "      <td>Friends/Relatives</td>\n",
       "      <td>1.0</td>\n",
       "      <td>1.0</td>\n",
       "      <td>Leisure and Holidays</td>\n",
       "      <td>Wildlife tourism</td>\n",
       "      <td>Friends, relatives</td>\n",
       "      <td>Independent</td>\n",
       "      <td>Cash</td>\n",
       "      <td>No</td>\n",
       "      <td>Friendly People</td>\n",
       "      <td>674602.5</td>\n",
       "      <td>13.0</td>\n",
       "      <td>None</td>\n",
       "    </tr>\n",
       "    <tr>\n",
       "      <th>1</th>\n",
       "      <td>tour_10</td>\n",
       "      <td>UNITED KINGDOM</td>\n",
       "      <td>Young Adult</td>\n",
       "      <td>Alone</td>\n",
       "      <td>1.0</td>\n",
       "      <td>0.0</td>\n",
       "      <td>Leisure and Holidays</td>\n",
       "      <td>Cultural tourism</td>\n",
       "      <td>others</td>\n",
       "      <td>Independent</td>\n",
       "      <td>Cash</td>\n",
       "      <td>Yes</td>\n",
       "      <td>Wonderful Country, Landscape, Nature</td>\n",
       "      <td>3214906.5</td>\n",
       "      <td>21.0</td>\n",
       "      <td>None</td>\n",
       "    </tr>\n",
       "    <tr>\n",
       "      <th>2</th>\n",
       "      <td>tour_1000</td>\n",
       "      <td>UNITED KINGDOM</td>\n",
       "      <td>Young Adult</td>\n",
       "      <td>Alone</td>\n",
       "      <td>0.0</td>\n",
       "      <td>1.0</td>\n",
       "      <td>Visiting Friends and Relatives</td>\n",
       "      <td>Cultural tourism</td>\n",
       "      <td>Friends, relatives</td>\n",
       "      <td>Independent</td>\n",
       "      <td>Cash</td>\n",
       "      <td>No</td>\n",
       "      <td>Excellent Experience</td>\n",
       "      <td>3315000.0</td>\n",
       "      <td>32.0</td>\n",
       "      <td>None</td>\n",
       "    </tr>\n",
       "    <tr>\n",
       "      <th>3</th>\n",
       "      <td>tour_1002</td>\n",
       "      <td>UNITED KINGDOM</td>\n",
       "      <td>Young Adult</td>\n",
       "      <td>Spouse</td>\n",
       "      <td>1.0</td>\n",
       "      <td>1.0</td>\n",
       "      <td>Leisure and Holidays</td>\n",
       "      <td>Wildlife tourism</td>\n",
       "      <td>Travel, agent, tour operator</td>\n",
       "      <td>Package Tour</td>\n",
       "      <td>Cash</td>\n",
       "      <td>Yes</td>\n",
       "      <td>Friendly People</td>\n",
       "      <td>7790250.0</td>\n",
       "      <td>11.0</td>\n",
       "      <td>Accommodation Package, Food Package, Transport...</td>\n",
       "    </tr>\n",
       "    <tr>\n",
       "      <th>4</th>\n",
       "      <td>tour_1004</td>\n",
       "      <td>CHINA</td>\n",
       "      <td>Child/Youth</td>\n",
       "      <td>Alone</td>\n",
       "      <td>1.0</td>\n",
       "      <td>0.0</td>\n",
       "      <td>Leisure and Holidays</td>\n",
       "      <td>Wildlife tourism</td>\n",
       "      <td>Travel, agent, tour operator</td>\n",
       "      <td>Independent</td>\n",
       "      <td>Cash</td>\n",
       "      <td>Yes</td>\n",
       "      <td>No comments</td>\n",
       "      <td>1657500.0</td>\n",
       "      <td>11.0</td>\n",
       "      <td>None</td>\n",
       "    </tr>\n",
       "  </tbody>\n",
       "</table>\n",
       "</div>"
      ],
      "text/plain": [
       "          ID         country     age_group        travel_with  total_female  \\\n",
       "0     tour_0      SWIZERLAND  Senior Adult  Friends/Relatives           1.0   \n",
       "1    tour_10  UNITED KINGDOM   Young Adult              Alone           1.0   \n",
       "2  tour_1000  UNITED KINGDOM   Young Adult              Alone           0.0   \n",
       "3  tour_1002  UNITED KINGDOM   Young Adult             Spouse           1.0   \n",
       "4  tour_1004           CHINA   Child/Youth              Alone           1.0   \n",
       "\n",
       "   total_male                         purpose     main_activity  \\\n",
       "0         1.0            Leisure and Holidays  Wildlife tourism   \n",
       "1         0.0            Leisure and Holidays  Cultural tourism   \n",
       "2         1.0  Visiting Friends and Relatives  Cultural tourism   \n",
       "3         1.0            Leisure and Holidays  Wildlife tourism   \n",
       "4         0.0            Leisure and Holidays  Wildlife tourism   \n",
       "\n",
       "                    info_source tour_arrangement payment_mode first_trip_tz  \\\n",
       "0            Friends, relatives      Independent         Cash            No   \n",
       "1                        others      Independent         Cash           Yes   \n",
       "2            Friends, relatives      Independent         Cash            No   \n",
       "3  Travel, agent, tour operator     Package Tour         Cash           Yes   \n",
       "4  Travel, agent, tour operator      Independent         Cash           Yes   \n",
       "\n",
       "                        most_impressing  total_cost  nights_stayed  \\\n",
       "0                       Friendly People    674602.5           13.0   \n",
       "1  Wonderful Country, Landscape, Nature   3214906.5           21.0   \n",
       "2                  Excellent Experience   3315000.0           32.0   \n",
       "3                       Friendly People   7790250.0           11.0   \n",
       "4                           No comments   1657500.0           11.0   \n",
       "\n",
       "                                    package_services  \n",
       "0                                               None  \n",
       "1                                               None  \n",
       "2                                               None  \n",
       "3  Accommodation Package, Food Package, Transport...  \n",
       "4                                               None  "
      ]
     },
     "execution_count": 75,
     "metadata": {},
     "output_type": "execute_result"
    }
   ],
   "source": [
    "# Fix column name typos\n",
    "data.rename(columns={\n",
    "    'infor_source': 'info_source',\n",
    "    'tour_arrangment': 'tour_arrangement',\n",
    "    'package_accomodation': 'package_accommodation'\n",
    "}, inplace=True)\n",
    "\n",
    "# Combine nights stayed on mainland and Zanzibar into one total nights column\n",
    "data['nights_stayed'] = data['night_mainland'] + data['night_zanzibar']\n",
    "\n",
    "# Package columns and mapping\n",
    "package_mapping = {\n",
    "    'package_transport_int': 'Transport Package',\n",
    "    'package_accommodation': 'Accommodation Package',\n",
    "    'package_food': 'Food Package',\n",
    "    'package_transport_tz': 'Transportation Package',\n",
    "    'package_sightseeing': 'Sightseeing Package',\n",
    "    'package_guided_tour': 'Guided Tour Package',\n",
    "    'package_insurance': 'Insurance Package'\n",
    "}\n",
    "package_cols = list(package_mapping.keys())\n",
    "\n",
    "# Create combined multi-label column 'package_services'\n",
    "def get_included_services(row):\n",
    "    services = [package_mapping[col] for col in package_cols if str(row[col]).strip().lower() == 'yes']\n",
    "    return ', '.join(services) if services else 'None'\n",
    "\n",
    "data['package_services'] = data.apply(get_included_services, axis=1)\n",
    "\n",
    "# ✅ Drop package columns AND nights columns in one go\n",
    "data.drop(columns=package_cols + ['night_mainland', 'night_zanzibar'], inplace=True)\n",
    "\n",
    "# Check the result\n",
    "data.head()\n"
   ]
  },
  {
   "cell_type": "code",
   "execution_count": 76,
   "metadata": {},
   "outputs": [
    {
     "data": {
      "text/plain": [
       "country\n",
       "UNITED STATES OF AMERICA    695\n",
       "UNITED KINGDOM              533\n",
       "ITALY                       393\n",
       "FRANCE                      280\n",
       "ZIMBABWE                    274\n",
       "                           ... \n",
       "CYPRUS                        1\n",
       "URUGUAY                       1\n",
       "MORROCO                       1\n",
       "BERMUDA                       1\n",
       "ESTONIA                       1\n",
       "Name: count, Length: 105, dtype: int64"
      ]
     },
     "execution_count": 76,
     "metadata": {},
     "output_type": "execute_result"
    }
   ],
   "source": [
    "data.country.value_counts()"
   ]
  },
  {
   "cell_type": "code",
   "execution_count": 77,
   "metadata": {},
   "outputs": [
    {
     "data": {
      "text/plain": [
       "age_group\n",
       "Young Adult     2487\n",
       "Senior Adult    1391\n",
       "Child/Youth      624\n",
       "Elder            307\n",
       "Name: count, dtype: int64"
      ]
     },
     "execution_count": 77,
     "metadata": {},
     "output_type": "execute_result"
    }
   ],
   "source": [
    "data.age_group.value_counts()"
   ]
  },
  {
   "cell_type": "code",
   "execution_count": 78,
   "metadata": {},
   "outputs": [
    {
     "data": {
      "text/plain": [
       "travel_with\n",
       "Alone                  2379\n",
       "Spouse                 1005\n",
       "Friends/Relatives       895\n",
       "Spouse and Children     368\n",
       "Children                162\n",
       "Name: count, dtype: int64"
      ]
     },
     "execution_count": 78,
     "metadata": {},
     "output_type": "execute_result"
    }
   ],
   "source": [
    "data.travel_with.value_counts()"
   ]
  },
  {
   "cell_type": "code",
   "execution_count": 79,
   "metadata": {},
   "outputs": [
    {
     "data": {
      "text/plain": [
       "total_female\n",
       "1.0     2421\n",
       "0.0     1669\n",
       "2.0      463\n",
       "3.0      144\n",
       "4.0       46\n",
       "5.0       25\n",
       "6.0       15\n",
       "7.0       10\n",
       "9.0        4\n",
       "10.0       4\n",
       "11.0       3\n",
       "12.0       3\n",
       "15.0       1\n",
       "49.0       1\n",
       "Name: count, dtype: int64"
      ]
     },
     "execution_count": 79,
     "metadata": {},
     "output_type": "execute_result"
    }
   ],
   "source": [
    "data.total_female.value_counts()"
   ]
  },
  {
   "cell_type": "code",
   "execution_count": 80,
   "metadata": {},
   "outputs": [
    {
     "data": {
      "text/plain": [
       "total_male\n",
       "1.0     2966\n",
       "0.0     1137\n",
       "2.0      478\n",
       "3.0      139\n",
       "4.0       46\n",
       "6.0       17\n",
       "5.0       15\n",
       "15.0       2\n",
       "7.0        2\n",
       "10.0       2\n",
       "9.0        2\n",
       "17.0       1\n",
       "12.0       1\n",
       "44.0       1\n",
       "Name: count, dtype: int64"
      ]
     },
     "execution_count": 80,
     "metadata": {},
     "output_type": "execute_result"
    }
   ],
   "source": [
    "data.total_male.value_counts()"
   ]
  },
  {
   "cell_type": "code",
   "execution_count": 81,
   "metadata": {},
   "outputs": [
    {
     "data": {
      "text/plain": [
       "purpose\n",
       "Leisure and Holidays              2840\n",
       "Business                           671\n",
       "Visiting Friends and Relatives     633\n",
       "Meetings and Conference            312\n",
       "Volunteering                       138\n",
       "Other                              128\n",
       "Scientific and Academic             87\n",
       "Name: count, dtype: int64"
      ]
     },
     "execution_count": 81,
     "metadata": {},
     "output_type": "execute_result"
    }
   ],
   "source": [
    "data.purpose.value_counts()"
   ]
  },
  {
   "cell_type": "code",
   "execution_count": 82,
   "metadata": {},
   "outputs": [
    {
     "data": {
      "text/plain": [
       "main_activity\n",
       "Wildlife tourism            2259\n",
       "Beach tourism               1025\n",
       "Hunting tourism              457\n",
       "Conference tourism           367\n",
       "Cultural tourism             359\n",
       "Mountain climbing            234\n",
       "business                      58\n",
       "Bird watching                 37\n",
       "Diving and Sport Fishing      13\n",
       "Name: count, dtype: int64"
      ]
     },
     "execution_count": 82,
     "metadata": {},
     "output_type": "execute_result"
    }
   ],
   "source": [
    "data.main_activity.value_counts()"
   ]
  },
  {
   "cell_type": "code",
   "execution_count": 83,
   "metadata": {},
   "outputs": [
    {
     "data": {
      "text/plain": [
       "info_source\n",
       "Travel, agent, tour operator      1913\n",
       "Friends, relatives                1635\n",
       "others                             490\n",
       "Newspaper, magazines,brochures     359\n",
       "Radio, TV, Web                     249\n",
       "Trade fair                          77\n",
       "Tanzania Mission Abroad             68\n",
       "inflight magazines                  18\n",
       "Name: count, dtype: int64"
      ]
     },
     "execution_count": 83,
     "metadata": {},
     "output_type": "execute_result"
    }
   ],
   "source": [
    "data.info_source.value_counts()"
   ]
  },
  {
   "cell_type": "code",
   "execution_count": 84,
   "metadata": {},
   "outputs": [
    {
     "data": {
      "text/plain": [
       "tour_arrangement\n",
       "Independent     2570\n",
       "Package Tour    2239\n",
       "Name: count, dtype: int64"
      ]
     },
     "execution_count": 84,
     "metadata": {},
     "output_type": "execute_result"
    }
   ],
   "source": [
    "data.tour_arrangement.value_counts()"
   ]
  },
  {
   "cell_type": "code",
   "execution_count": 85,
   "metadata": {},
   "outputs": [
    {
     "data": {
      "text/plain": [
       "payment_mode\n",
       "Cash                 4172\n",
       "Credit Card           622\n",
       "Other                   8\n",
       "Travellers Cheque       7\n",
       "Name: count, dtype: int64"
      ]
     },
     "execution_count": 85,
     "metadata": {},
     "output_type": "execute_result"
    }
   ],
   "source": [
    "data.payment_mode.value_counts()"
   ]
  },
  {
   "cell_type": "code",
   "execution_count": 86,
   "metadata": {},
   "outputs": [
    {
     "data": {
      "text/plain": [
       "first_trip_tz\n",
       "Yes    3243\n",
       "No     1566\n",
       "Name: count, dtype: int64"
      ]
     },
     "execution_count": 86,
     "metadata": {},
     "output_type": "execute_result"
    }
   ],
   "source": [
    "data.first_trip_tz.value_counts()"
   ]
  },
  {
   "cell_type": "code",
   "execution_count": 87,
   "metadata": {},
   "outputs": [
    {
     "data": {
      "text/plain": [
       "most_impressing\n",
       "Friendly People                         1541\n",
       " Wildlife                               1038\n",
       "No comments                              743\n",
       "Wonderful Country, Landscape, Nature     507\n",
       "Good service                             365\n",
       "Alone                                    313\n",
       "Excellent Experience                     271\n",
       "Satisfies and Hope Come Back              31\n",
       "Name: count, dtype: int64"
      ]
     },
     "execution_count": 87,
     "metadata": {},
     "output_type": "execute_result"
    }
   ],
   "source": [
    "data.most_impressing.value_counts()"
   ]
  },
  {
   "cell_type": "code",
   "execution_count": 88,
   "metadata": {},
   "outputs": [
    {
     "data": {
      "text/plain": [
       "total_cost\n",
       "1657500.0     154\n",
       "3315000.0     109\n",
       "828750.0       88\n",
       "497250.0       76\n",
       "331500.0       76\n",
       "             ... \n",
       "14983800.0      1\n",
       "416000.0        1\n",
       "885038.7        1\n",
       "1768552.5       1\n",
       "2657000.0       1\n",
       "Name: count, Length: 1637, dtype: int64"
      ]
     },
     "execution_count": 88,
     "metadata": {},
     "output_type": "execute_result"
    }
   ],
   "source": [
    "data.total_cost.value_counts()"
   ]
  },
  {
   "cell_type": "code",
   "execution_count": 89,
   "metadata": {},
   "outputs": [
    {
     "data": {
      "text/plain": [
       "nights_stayed\n",
       "7.0      505\n",
       "2.0      387\n",
       "3.0      376\n",
       "14.0     353\n",
       "4.0      341\n",
       "        ... \n",
       "53.0       1\n",
       "95.0       1\n",
       "65.0       1\n",
       "145.0      1\n",
       "44.0       1\n",
       "Name: count, Length: 76, dtype: int64"
      ]
     },
     "execution_count": 89,
     "metadata": {},
     "output_type": "execute_result"
    }
   ],
   "source": [
    "data.nights_stayed.value_counts()"
   ]
  },
  {
   "cell_type": "code",
   "execution_count": 90,
   "metadata": {},
   "outputs": [
    {
     "data": {
      "text/plain": [
       "package_services\n",
       "None                                                                                                                                           2545\n",
       "Accommodation Package, Food Package, Transportation Package, Sightseeing Package, Guided Tour Package                                           387\n",
       "Transport Package, Accommodation Package, Food Package, Transportation Package, Sightseeing Package, Guided Tour Package, Insurance Package     357\n",
       "Transport Package, Accommodation Package, Food Package, Transportation Package, Sightseeing Package, Guided Tour Package                        287\n",
       "Transport Package, Accommodation Package, Food Package, Transportation Package                                                                  186\n",
       "                                                                                                                                               ... \n",
       "Accommodation Package, Transportation Package, Sightseeing Package, Guided Tour Package, Insurance Package                                        1\n",
       "Transport Package, Guided Tour Package, Insurance Package                                                                                         1\n",
       "Accommodation Package, Food Package, Guided Tour Package, Insurance Package                                                                       1\n",
       "Guided Tour Package                                                                                                                               1\n",
       "Transport Package, Sightseeing Package, Guided Tour Package, Insurance Package                                                                    1\n",
       "Name: count, Length: 80, dtype: int64"
      ]
     },
     "execution_count": 90,
     "metadata": {},
     "output_type": "execute_result"
    }
   ],
   "source": [
    "data.package_services.value_counts()"
   ]
  },
  {
   "cell_type": "code",
   "execution_count": 91,
   "metadata": {},
   "outputs": [
    {
     "data": {
      "text/html": [
       "<div>\n",
       "<style scoped>\n",
       "    .dataframe tbody tr th:only-of-type {\n",
       "        vertical-align: middle;\n",
       "    }\n",
       "\n",
       "    .dataframe tbody tr th {\n",
       "        vertical-align: top;\n",
       "    }\n",
       "\n",
       "    .dataframe thead th {\n",
       "        text-align: right;\n",
       "    }\n",
       "</style>\n",
       "<table border=\"1\" class=\"dataframe\">\n",
       "  <thead>\n",
       "    <tr style=\"text-align: right;\">\n",
       "      <th></th>\n",
       "      <th>ID</th>\n",
       "      <th>country</th>\n",
       "      <th>age_group</th>\n",
       "      <th>travel_with</th>\n",
       "      <th>total_female</th>\n",
       "      <th>total_male</th>\n",
       "      <th>purpose</th>\n",
       "      <th>main_activity</th>\n",
       "      <th>info_source</th>\n",
       "      <th>tour_arrangement</th>\n",
       "      <th>payment_mode</th>\n",
       "      <th>first_trip_tz</th>\n",
       "      <th>most_impressing</th>\n",
       "      <th>total_cost</th>\n",
       "      <th>nights_stayed</th>\n",
       "      <th>package_services</th>\n",
       "    </tr>\n",
       "  </thead>\n",
       "  <tbody>\n",
       "    <tr>\n",
       "      <th>0</th>\n",
       "      <td>tour_0</td>\n",
       "      <td>SWIZERLAND</td>\n",
       "      <td>Senior Adult</td>\n",
       "      <td>Friends/Relatives</td>\n",
       "      <td>1.0</td>\n",
       "      <td>1.0</td>\n",
       "      <td>Leisure and Holidays</td>\n",
       "      <td>Wildlife tourism</td>\n",
       "      <td>Friends, relatives</td>\n",
       "      <td>Independent</td>\n",
       "      <td>Cash</td>\n",
       "      <td>No</td>\n",
       "      <td>Friendly People</td>\n",
       "      <td>674602.5</td>\n",
       "      <td>13.0</td>\n",
       "      <td>None</td>\n",
       "    </tr>\n",
       "    <tr>\n",
       "      <th>1</th>\n",
       "      <td>tour_10</td>\n",
       "      <td>UNITED KINGDOM</td>\n",
       "      <td>Young Adult</td>\n",
       "      <td>Alone</td>\n",
       "      <td>1.0</td>\n",
       "      <td>0.0</td>\n",
       "      <td>Leisure and Holidays</td>\n",
       "      <td>Cultural tourism</td>\n",
       "      <td>others</td>\n",
       "      <td>Independent</td>\n",
       "      <td>Cash</td>\n",
       "      <td>Yes</td>\n",
       "      <td>Wonderful Country, Landscape, Nature</td>\n",
       "      <td>3214906.5</td>\n",
       "      <td>21.0</td>\n",
       "      <td>None</td>\n",
       "    </tr>\n",
       "    <tr>\n",
       "      <th>2</th>\n",
       "      <td>tour_1000</td>\n",
       "      <td>UNITED KINGDOM</td>\n",
       "      <td>Young Adult</td>\n",
       "      <td>Alone</td>\n",
       "      <td>0.0</td>\n",
       "      <td>1.0</td>\n",
       "      <td>Visiting Friends and Relatives</td>\n",
       "      <td>Cultural tourism</td>\n",
       "      <td>Friends, relatives</td>\n",
       "      <td>Independent</td>\n",
       "      <td>Cash</td>\n",
       "      <td>No</td>\n",
       "      <td>Excellent Experience</td>\n",
       "      <td>3315000.0</td>\n",
       "      <td>32.0</td>\n",
       "      <td>None</td>\n",
       "    </tr>\n",
       "    <tr>\n",
       "      <th>3</th>\n",
       "      <td>tour_1002</td>\n",
       "      <td>UNITED KINGDOM</td>\n",
       "      <td>Young Adult</td>\n",
       "      <td>Spouse</td>\n",
       "      <td>1.0</td>\n",
       "      <td>1.0</td>\n",
       "      <td>Leisure and Holidays</td>\n",
       "      <td>Wildlife tourism</td>\n",
       "      <td>Travel, agent, tour operator</td>\n",
       "      <td>Package Tour</td>\n",
       "      <td>Cash</td>\n",
       "      <td>Yes</td>\n",
       "      <td>Friendly People</td>\n",
       "      <td>7790250.0</td>\n",
       "      <td>11.0</td>\n",
       "      <td>Accommodation Package, Food Package, Transport...</td>\n",
       "    </tr>\n",
       "    <tr>\n",
       "      <th>4</th>\n",
       "      <td>tour_1004</td>\n",
       "      <td>CHINA</td>\n",
       "      <td>Child/Youth</td>\n",
       "      <td>Alone</td>\n",
       "      <td>1.0</td>\n",
       "      <td>0.0</td>\n",
       "      <td>Leisure and Holidays</td>\n",
       "      <td>Wildlife tourism</td>\n",
       "      <td>Travel, agent, tour operator</td>\n",
       "      <td>Independent</td>\n",
       "      <td>Cash</td>\n",
       "      <td>Yes</td>\n",
       "      <td>No comments</td>\n",
       "      <td>1657500.0</td>\n",
       "      <td>11.0</td>\n",
       "      <td>None</td>\n",
       "    </tr>\n",
       "  </tbody>\n",
       "</table>\n",
       "</div>"
      ],
      "text/plain": [
       "          ID         country     age_group        travel_with  total_female  \\\n",
       "0     tour_0      SWIZERLAND  Senior Adult  Friends/Relatives           1.0   \n",
       "1    tour_10  UNITED KINGDOM   Young Adult              Alone           1.0   \n",
       "2  tour_1000  UNITED KINGDOM   Young Adult              Alone           0.0   \n",
       "3  tour_1002  UNITED KINGDOM   Young Adult             Spouse           1.0   \n",
       "4  tour_1004           CHINA   Child/Youth              Alone           1.0   \n",
       "\n",
       "   total_male                         purpose     main_activity  \\\n",
       "0         1.0            Leisure and Holidays  Wildlife tourism   \n",
       "1         0.0            Leisure and Holidays  Cultural tourism   \n",
       "2         1.0  Visiting Friends and Relatives  Cultural tourism   \n",
       "3         1.0            Leisure and Holidays  Wildlife tourism   \n",
       "4         0.0            Leisure and Holidays  Wildlife tourism   \n",
       "\n",
       "                    info_source tour_arrangement payment_mode first_trip_tz  \\\n",
       "0            Friends, relatives      Independent         Cash            No   \n",
       "1                        others      Independent         Cash           Yes   \n",
       "2            Friends, relatives      Independent         Cash            No   \n",
       "3  Travel, agent, tour operator     Package Tour         Cash           Yes   \n",
       "4  Travel, agent, tour operator      Independent         Cash           Yes   \n",
       "\n",
       "                        most_impressing  total_cost  nights_stayed  \\\n",
       "0                       Friendly People    674602.5           13.0   \n",
       "1  Wonderful Country, Landscape, Nature   3214906.5           21.0   \n",
       "2                  Excellent Experience   3315000.0           32.0   \n",
       "3                       Friendly People   7790250.0           11.0   \n",
       "4                           No comments   1657500.0           11.0   \n",
       "\n",
       "                                    package_services  \n",
       "0                                               None  \n",
       "1                                               None  \n",
       "2                                               None  \n",
       "3  Accommodation Package, Food Package, Transport...  \n",
       "4                                               None  "
      ]
     },
     "execution_count": 91,
     "metadata": {},
     "output_type": "execute_result"
    }
   ],
   "source": [
    "data.head()"
   ]
  },
  {
   "cell_type": "markdown",
   "metadata": {},
   "source": [
    "### **Note:** since our table is ready then we should proceed"
   ]
  },
  {
   "cell_type": "markdown",
   "metadata": {},
   "source": [
    "#### **Types of EDA**"
   ]
  },
  {
   "cell_type": "markdown",
   "metadata": {},
   "source": [
    "##### A. Univariate Analysis\n",
    "\n",
    "In this section, we will do univariate analysis. It is the simplest form of analyzing data where we examine each variable individually. For categorical features we can use frequency table or bar plots which will calculate the number of each category in a particular variable. For numerical features, probability density plots can be used to look at the distribution of the variable."
   ]
  },
  {
   "cell_type": "code",
   "execution_count": null,
   "metadata": {},
   "outputs": [],
   "source": []
  }
 ],
 "metadata": {
  "kernelspec": {
   "display_name": "Python 3 (ipykernel)",
   "language": "python",
   "name": "python3"
  },
  "language_info": {
   "codemirror_mode": {
    "name": "ipython",
    "version": 3
   },
   "file_extension": ".py",
   "mimetype": "text/x-python",
   "name": "python",
   "nbconvert_exporter": "python",
   "pygments_lexer": "ipython3",
   "version": "3.12.11"
  }
 },
 "nbformat": 4,
 "nbformat_minor": 4
}
