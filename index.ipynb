{
 "cells": [
  {
   "cell_type": "markdown",
   "metadata": {},
   "source": [
    "## **Exploratory Data Analysis for Tourism Sector in Tanzania.**"
   ]
  },
  {
   "cell_type": "markdown",
   "metadata": {},
   "source": [
    "### **1. Understand the Problem Statement**"
   ]
  },
  {
   "cell_type": "markdown",
   "metadata": {},
   "source": [
    "\n",
    "Tourism is a vital pillar of Tanzania’s economy, contributing significantly to foreign exchange earnings, employment, and community development. Renowned globally for attractions such as Serengeti National Park, Mount Kilimanjaro, and Zanzibar beaches, the country draws millions of visitors annually.\n",
    "\n",
    "However, there is limited data-driven understanding of visitor demographics, seasonal patterns, and revenue drivers. This lack of insight hinders informed decision-making for policymakers, tourism boards, and stakeholders, resulting in inefficiencies in marketing strategies, resource allocation, and sustainable sector planning.\n",
    "\n",
    "To address this, there is a need to analyze historical tourism data to uncover patterns in tourist arrivals, spending, preferences, and peak seasons. Furthermore, a predictive model can be developed to classify and forecast tourist flow levels (e.g., \"High\", \"Medium\", or \"Low\") and segment visitors based on key attributes like source market or package preferences.\n",
    "\n",
    "By combining Exploratory Data Analysis (EDA) with predictive modeling, this project aims to provide actionable insights and build a foundation for data-driven decision-making in Tanzania’s tourism sector."
   ]
  },
  {
   "cell_type": "markdown",
   "metadata": {},
   "source": [
    "##### Import libraries."
   ]
  },
  {
   "cell_type": "code",
   "execution_count": 112,
   "metadata": {},
   "outputs": [],
   "source": [
    "# import important modules\n",
    "import pandas as pd\n",
    "import numpy as np\n",
    "import matplotlib.pyplot as plt\n",
    "import seaborn as sns\n",
    "plt.rcParams[\"axes.labelsize\"] = 18\n",
    "import warnings\n",
    "warnings.filterwarnings('ignore')\n",
    "%matplotlib inline\n"
   ]
  },
  {
   "cell_type": "markdown",
   "metadata": {},
   "source": [
    "##### Load Dataset"
   ]
  },
  {
   "cell_type": "code",
   "execution_count": 113,
   "metadata": {},
   "outputs": [],
   "source": [
    "data = pd.read_csv('./datasets/Train.csv')"
   ]
  },
  {
   "cell_type": "code",
   "execution_count": null,
   "metadata": {},
   "outputs": [],
   "source": [
    "#explore data\n",
    "data.head()"
   ]
  },
  {
   "cell_type": "markdown",
   "metadata": {},
   "source": [
    "### **2. Hypothesis Generation**"
   ]
  },
  {
   "cell_type": "markdown",
   "metadata": {},
   "source": [
    "Hypothesis generation is a critical stage in any data science or machine learning pipeline. It involves thoroughly understanding the problem and brainstorming all possible factors that may influence the outcome. This step is carried out before analyzing the data to form logical assumptions that can later be tested.\n",
    "\n",
    "Based on the tourism data and context, the following hypotheses are proposed:\n",
    "\n",
    "* **Age Group**: Young adults are more likely to visit Tanzania compared to other age groups.\n",
    "* **Travel Companions**: Visitors are more likely to travel alone or with their spouse rather than with children.\n",
    "* **Purpose of Visit**: Most visitors travel to Tanzania primarily for leisure and holidays rather than business or visiting friends and relatives.\n",
    "* **Tourism Activities**: Visitors prefer wildlife and beach tourism over cultural or business-related tourism.\n",
    "* **Information Source**: Tourists are more likely to learn about Tanzania through travel agents, friends, or relatives than through TV, radio, web platforms, magazines, or Tanzanian missions abroad.\n",
    "* **Tour Arrangement**: Visitors prefer arranging tours independently rather than opting for package tours.\n",
    "* **Payment Method**: Cash is the most common mode of payment among visitors, compared to credit cards or travelers' cheques.\n",
    "* **Trip Frequency**: A majority of visitors are on their first trip to Tanzania rather than being repeat travelers.\n",
    "* **Visitor Impressions**: Visitors are more likely to appreciate the friendliness of Tanzanians compared to giving feedback on experiences or overall satisfaction.\n",
    "* **Pricing Preference**: Most visitors prefer reasonably priced services rather than low-cost or high-cost options.\n",
    "* **Length of Stay**: The typical length of stay for visitors is up to two weeks.\n",
    "* **Destination Preference**: Visitors spend more time in Zanzibar than on mainland Tanzania.\n",
    "* **Package Services**: Most visitors prefer not to use package services.\n",
    "\n"
   ]
  },
  {
   "cell_type": "markdown",
   "metadata": {},
   "source": [
    "### **3. Describe Data Structure**"
   ]
  },
  {
   "cell_type": "markdown",
   "metadata": {},
   "source": [
    "**Note:** Open the VariableDefinition file to understand the meaning of each variable in this dataset"
   ]
  },
  {
   "cell_type": "code",
   "execution_count": null,
   "metadata": {},
   "outputs": [],
   "source": [
    "variable_dfn = pd.read_csv('./datasets/VariableDefinitions.csv')\n",
    "display(variable_dfn)"
   ]
  },
  {
   "cell_type": "code",
   "execution_count": null,
   "metadata": {},
   "outputs": [],
   "source": [
    "#data shape\n",
    "print(f\"Data Shape: {data.shape}\")"
   ]
  },
  {
   "cell_type": "code",
   "execution_count": null,
   "metadata": {},
   "outputs": [],
   "source": [
    "#list first data\n",
    "data.tail()"
   ]
  },
  {
   "cell_type": "code",
   "execution_count": null,
   "metadata": {},
   "outputs": [],
   "source": [
    "data.describe"
   ]
  },
  {
   "cell_type": "markdown",
   "metadata": {},
   "source": [
    "### **4. Explolatory Data Analysis**"
   ]
  },
  {
   "cell_type": "markdown",
   "metadata": {},
   "source": [
    "\n",
    "This is the process of finding some insights from you dataset before create predictive models.\n",
    "**Note:** This is an important steps in your Data science workflow."
   ]
  },
  {
   "cell_type": "code",
   "execution_count": null,
   "metadata": {},
   "outputs": [],
   "source": [
    "# Check for missing values\n",
    "print('missing values:', data.isnull().sum())"
   ]
  },
  {
   "cell_type": "markdown",
   "metadata": {},
   "source": [
    "##### **Note**: Since we have missing values , then we have to replace them with real data."
   ]
  },
  {
   "cell_type": "code",
   "execution_count": null,
   "metadata": {},
   "outputs": [],
   "source": [
    "# Check missing values count per column\n",
    "missing_counts = data[['travel_with', 'total_female', 'total_male', 'most_impressing']].isnull().sum()\n",
    "\n",
    "for col in ['travel_with', 'total_female', 'total_male', 'most_impressing']:\n",
    "    if data[col].isnull().sum() > 0:\n",
    "        if data[col].dtype == 'O':  # object/string type\n",
    "            data[col] = data[col].fillna('Alone')\n",
    "        else:  # numeric\n",
    "            data[col] = data[col].fillna(data[col].median())\n",
    "\n",
    "\n",
    "# Confirm no more nulls in those columns\n",
    "print(data.isnull().sum())\n"
   ]
  },
  {
   "cell_type": "markdown",
   "metadata": {},
   "source": [
    "##### since we have no missing values we can proceed to data mapping\n"
   ]
  },
  {
   "cell_type": "code",
   "execution_count": null,
   "metadata": {},
   "outputs": [],
   "source": [
    "age_mapping = {\n",
    "    \"1-24\" : \"Child or Youth\",\n",
    "    \"25-44\" : \"Young Adult\",\n",
    "    \"45-64\" : \"Senior Adult\",\n",
    "    \"65+\" : \"Elder\",\n",
    "}\n",
    "\n",
    "data['age_group'] = data.age_group.map(age_mapping)\n",
    "# data.head()\n",
    "data.age_group.value_counts()"
   ]
  },
  {
   "cell_type": "markdown",
   "metadata": {},
   "source": [
    "#### we need to organize well the data \n",
    "For packages we are combining all in one column and , night_spent in tanzania mainland and zanzibar , because it is one country "
   ]
  },
  {
   "cell_type": "code",
   "execution_count": null,
   "metadata": {},
   "outputs": [],
   "source": [
    "# Fix column name typos\n",
    "data.rename(columns={\n",
    "    'infor_source': 'info_source',\n",
    "    'tour_arrangment': 'tour_arrangement',\n",
    "    'package_accomodation': 'package_accommodation'\n",
    "}, inplace=True)\n",
    "\n",
    "# Combine nights stayed on mainland and Zanzibar into one total nights column\n",
    "# data['nights_stayed'] = data['night_mainland'] + data['night_zanzibar']\n",
    "\n",
    "# Package columns and mapping\n",
    "package_mapping = {\n",
    "    'package_transport_int': 'Transport Package',\n",
    "    'package_accommodation': 'Accommodation Package',\n",
    "    'package_food': 'Food Package',\n",
    "    'package_transport_tz': 'Transportation Package',\n",
    "    'package_sightseeing': 'Sightseeing Package',\n",
    "    'package_guided_tour': 'Guided Tour Package',\n",
    "    'package_insurance': 'Insurance Package'\n",
    "}\n",
    "\n",
    "package_cols = list(package_mapping.keys())\n",
    "\n",
    "# Create combined multi-label column 'package_services'\n",
    "def get_included_services(row):\n",
    "    services = [package_mapping[col] for col in package_cols if str(row[col]).strip().lower() == 'yes']\n",
    "    return ', '.join(services) if services else 'None'\n",
    "\n",
    "data['package_services'] = data.apply(get_included_services, axis=1)\n",
    "\n",
    "# ✅ Drop package columns AND nights columns in one go\n",
    "data.drop(columns=package_cols  ,inplace=True)\n",
    "# Convert to integers to remove decimals\n",
    "data['total_male'] = data['total_male'].astype(int)\n",
    "data['total_female'] = data['total_female'].astype(int)\n",
    "# Convert to integers to remove decimals\n",
    "data['night_mainland'] = data['night_mainland'].astype(int)\n",
    "data['night_zanzibar'] = data['night_zanzibar'].astype(int)\n",
    "# Convert to integers to remove decimals\n",
    "data['total_cost'] = data['total_cost'].astype(int)\n",
    "\n",
    "\n",
    "# Check the result\n",
    "data.head(30)\n"
   ]
  },
  {
   "cell_type": "code",
   "execution_count": null,
   "metadata": {},
   "outputs": [],
   "source": [
    "data.head()"
   ]
  },
  {
   "cell_type": "markdown",
   "metadata": {},
   "source": [
    "#### **Types of EDA**"
   ]
  },
  {
   "cell_type": "markdown",
   "metadata": {},
   "source": [
    "##### A. Univariate Analysis\n",
    "\n",
    "In this section, we will do univariate analysis. It is the simplest form of analyzing data where we examine each variable individually. For categorical features we can use frequency table or bar plots which will calculate the number of each category in a particular variable. For numerical features, probability density plots can be used to look at the distribution of the variable."
   ]
  },
  {
   "cell_type": "code",
   "execution_count": null,
   "metadata": {},
   "outputs": [],
   "source": [
    "# Assuming your DataFrame is named data\n",
    "\n",
    "# 1. Make sure country names are uppercase for consistent mapping\n",
    "data['country'] = data['country'].str.upper()\n",
    "\n",
    "# 2. Complete region mapping dictionary (based on your 105 countries)\n",
    "region_map = {\n",
    "    # Africa\n",
    "    'KENYA': 'Africa',\n",
    "    'UGANDA': 'Africa',\n",
    "    'ZIMBABWE': 'Africa',\n",
    "    'SOUTH AFRICA': 'Africa',\n",
    "    'ZAMBIA': 'Africa',\n",
    "    'BURUNDI': 'Africa',\n",
    "    'RWANDA': 'Africa',\n",
    "    'DRC': 'Africa',\n",
    "    'MALAWI': 'Africa',\n",
    "    'MOZAMBIQUE': 'Africa',\n",
    "    'ETHIOPIA': 'Africa',\n",
    "    'SUDAN': 'Africa',\n",
    "    'SWAZILAND': 'Africa',\n",
    "    'DJIBOUT': 'Africa',\n",
    "    'ALGERIA': 'Africa',\n",
    "    'GHANA': 'Africa',\n",
    "    'MAURITIUS': 'Africa',\n",
    "    'NIGERIA': 'Africa',\n",
    "    'NAMIBIA': 'Africa',\n",
    "    'ANGOLA': 'Africa',\n",
    "    'COMORO': 'Africa',\n",
    "    'CAPE VERDE': 'Africa',\n",
    "    'LESOTHO': 'Africa',\n",
    "    'MADAGASCAR': 'Africa',\n",
    "    'IVORY COAST': 'Africa',\n",
    "    'MORROCO': 'Africa',\n",
    "    'TUNISIA': 'Africa',\n",
    "\n",
    "    # Europe\n",
    "    'UNITED KINGDOM': 'Europe',\n",
    "    'ITALY': 'Europe',\n",
    "    'FRANCE': 'Europe',\n",
    "    'GERMANY': 'Europe',\n",
    "    'SPAIN': 'Europe',\n",
    "    'NETHERLANDS': 'Europe',\n",
    "    'SWEDEN': 'Europe',\n",
    "    'BELGIUM': 'Europe',\n",
    "    'DENMARK': 'Europe',\n",
    "    'NORWAY': 'Europe',\n",
    "    'AUSTRIA': 'Europe',\n",
    "    'POLAND': 'Europe',\n",
    "    'CZECH REPUBLIC': 'Europe',\n",
    "    'PORTUGAL': 'Europe',\n",
    "    'FINLAND': 'Europe',\n",
    "    'GREECE': 'Europe',\n",
    "    'SERBIA': 'Europe',\n",
    "    'LITHUANIA': 'Europe',\n",
    "    'SLOVAKIA': 'Europe',\n",
    "    'ROMANIA': 'Europe',\n",
    "    'HUNGARY': 'Europe',\n",
    "    'LATVIA': 'Europe',\n",
    "    'LUXEMBOURG': 'Europe',\n",
    "    'SLOVENIA': 'Europe',\n",
    "    'MONTENEGRO': 'Europe',\n",
    "    'CROATIA': 'Europe',\n",
    "    'ESTONIA': 'Europe',\n",
    "    'CYPRUS': 'Europe',\n",
    "    'MALT': 'Europe',\n",
    "    'SCOTLAND': 'Europe',\n",
    "    'BURGARIA': 'Europe',\n",
    "\n",
    "    # Asia\n",
    "    'INDIA': 'Asia',\n",
    "    'CHINA': 'Asia',\n",
    "    'JAPAN': 'Asia',\n",
    "    'MALAYSIA': 'Asia',\n",
    "    'ISRAEL': 'Asia',\n",
    "    'KOREA': 'Asia',\n",
    "    'TAIWAN': 'Asia',\n",
    "    'PAKISTAN': 'Asia',\n",
    "    'SINGAPORE': 'Asia',\n",
    "    'SRI LANKA': 'Asia',\n",
    "    'INDONESIA': 'Asia',\n",
    "    'NEPAL': 'Asia',\n",
    "    'IRAN': 'Asia',\n",
    "    'MYANMAR': 'Asia',\n",
    "    'IRAQ': 'Asia',\n",
    "    'PHILIPINES': 'Asia',\n",
    "    'YEMEN': 'Asia',\n",
    "    'LEBANON': 'Asia',\n",
    "    'KUWAIT': 'Asia',\n",
    "    'QATAR': 'Asia',\n",
    "    'UNITED ARAB EMIRATES': 'Asia',\n",
    "    'OMAN': 'Asia',\n",
    "\n",
    "    # North America\n",
    "    'UNITED STATES OF AMERICA': 'North America',\n",
    "    'CANADA': 'North America',\n",
    "    'BERMUDA': 'North America',\n",
    "    'MEXICO': 'North America',\n",
    "    'COSTARICA': 'North America',\n",
    "    'DOMINICA': 'North America',\n",
    "    'TRINIDAD TOBACCO': 'North America',\n",
    "\n",
    "    # South America\n",
    "    'BRAZIL': 'South America',\n",
    "    'ARGENTINA': 'South America',\n",
    "    'CHILE': 'South America',\n",
    "    'COLOMBIA': 'South America',\n",
    "    'URUGUAY': 'South America',\n",
    "\n",
    "    # Oceania\n",
    "    'AUSTRALIA': 'Oceania',\n",
    "    'NEW ZEALAND': 'Oceania',\n",
    "\n",
    "    # Middle East\n",
    "    'UAE': 'Middle East',\n",
    "    'UNITED ARAB EMIRATES': 'Middle East',\n",
    "    'QATAR': 'Middle East',\n",
    "    'KUWAIT': 'Middle East',\n",
    "    'OMAN': 'Middle East',\n",
    "    'YEMEN': 'Middle East',\n",
    "    'LEBANON': 'Middle East',\n",
    "    'IRAN': 'Middle East',\n",
    "    'IRAQ': 'Middle East',\n",
    "}\n",
    "\n",
    "# 3. Map the countries to their respective regions\n",
    "data['region'] = data['country'].map(region_map)\n",
    "\n",
    "# 4. Fill any missing regions with 'Other'\n",
    "data['region'] = data['region'].fillna('Other')\n",
    "\n",
    "# 5. Check new column\n",
    "# data.total_male.value_counts()\n",
    "sns.catplot(\n",
    "    x='region',\n",
    "    kind='count',\n",
    "    data=data,\n",
    "    height=5,       # height in inches\n",
    "    aspect=2.5,     # width = height * aspect\n",
    "    palette='viridis')"
   ]
  },
  {
   "cell_type": "markdown",
   "metadata": {},
   "source": [
    "- Most visitors much from Europe than other regions"
   ]
  },
  {
   "cell_type": "code",
   "execution_count": null,
   "metadata": {},
   "outputs": [],
   "source": [
    "# data.total_male.value_counts()\n",
    "sns.catplot(x='age_group' , kind='count' , data=data)"
   ]
  },
  {
   "cell_type": "code",
   "execution_count": null,
   "metadata": {},
   "outputs": [],
   "source": [
    "\n",
    "sns.set(style=\"whitegrid\")\n",
    "\n",
    "# Control size: height (per facet) and aspect ratio\n",
    "sns.catplot(\n",
    "    x='travel_with',\n",
    "    kind='count',\n",
    "    data=data,\n",
    "    height=5,       # height in inches\n",
    "    aspect=1.5,     # width = height * aspect\n",
    "    palette='viridis'\n",
    ")"
   ]
  },
  {
   "cell_type": "code",
   "execution_count": null,
   "metadata": {},
   "outputs": [],
   "source": [
    "sns.catplot(x='total_female', kind='count', data=data)"
   ]
  },
  {
   "cell_type": "markdown",
   "metadata": {},
   "source": [
    "- Most visitors travel with 1 female relative/child/spause"
   ]
  },
  {
   "cell_type": "code",
   "execution_count": null,
   "metadata": {},
   "outputs": [],
   "source": [
    "sns.catplot(x='total_male', kind='count', data=data)"
   ]
  },
  {
   "cell_type": "markdown",
   "metadata": {},
   "source": [
    "- Most visitors travel with 1 male relative/child/spause"
   ]
  },
  {
   "cell_type": "code",
   "execution_count": null,
   "metadata": {},
   "outputs": [],
   "source": [
    "sns.catplot(\n",
    "    x='purpose' , \n",
    "    kind='count' , \n",
    "    data=data , \n",
    "    height=6,      \n",
    "    aspect=3.5,     \n",
    "    palette='viridis'\n",
    "    )"
   ]
  },
  {
   "cell_type": "markdown",
   "metadata": {},
   "source": [
    "- Most visitor's pupose is Laisure and holidays"
   ]
  },
  {
   "cell_type": "code",
   "execution_count": null,
   "metadata": {},
   "outputs": [],
   "source": [
    "sns.catplot(\n",
    "    x='main_activity' , \n",
    "    kind='count' , \n",
    "    data=data , \n",
    "    height=6,      \n",
    "    aspect=3.5,     \n",
    "    palette='viridis'\n",
    "    )"
   ]
  },
  {
   "cell_type": "markdown",
   "metadata": {},
   "source": [
    "- Most visitors like/main activity is Widlife Tourism"
   ]
  },
  {
   "cell_type": "code",
   "execution_count": null,
   "metadata": {},
   "outputs": [],
   "source": [
    "sns.catplot(\n",
    "    x='info_source' , \n",
    "    kind='count' , \n",
    "    data=data , \n",
    "    height=6,      \n",
    "    aspect=3.5,     \n",
    "    palette='viridis'\n",
    "    )"
   ]
  },
  {
   "cell_type": "markdown",
   "metadata": {},
   "source": [
    "- Most visitors tourism info source is from Travel , agent or tour operator"
   ]
  },
  {
   "cell_type": "code",
   "execution_count": null,
   "metadata": {},
   "outputs": [],
   "source": [
    "sns.catplot(\n",
    "    x='tour_arrangement' , \n",
    "    kind='count' , \n",
    "    data=data , \n",
    "    height=4,      \n",
    "    aspect=1.5,     \n",
    "    palette='viridis'\n",
    "    )"
   ]
  },
  {
   "cell_type": "markdown",
   "metadata": {},
   "source": [
    "- Most visitors like independent Tour arrangements than package Tour"
   ]
  },
  {
   "cell_type": "code",
   "execution_count": null,
   "metadata": {},
   "outputs": [],
   "source": [
    "sns.catplot(\n",
    "    x='night_mainland' , \n",
    "    kind='count' , \n",
    "    data=data , \n",
    "    height=5,      \n",
    "    aspect=3.5,     \n",
    "    palette='viridis'\n",
    "    )\n",
    "sns.catplot(\n",
    "    x='night_zanzibar' , \n",
    "    kind='count' , \n",
    "    data=data , \n",
    "    height=6,      \n",
    "    aspect=3.5,     \n",
    "    palette='viridis'\n",
    "    )"
   ]
  },
  {
   "cell_type": "markdown",
   "metadata": {},
   "source": [
    "- Most visitors like to visit and spend most time in Zanzibar than mainland"
   ]
  },
  {
   "cell_type": "code",
   "execution_count": null,
   "metadata": {},
   "outputs": [],
   "source": [
    "sns.catplot(\n",
    "    x='payment_mode' , \n",
    "    kind='count' , \n",
    "    data=data , \n",
    "    height=4,      \n",
    "    aspect=1.5,     \n",
    "    palette='viridis'\n",
    "    )"
   ]
  },
  {
   "cell_type": "markdown",
   "metadata": {},
   "source": [
    "- Most visitors pay on cash than online payment services and travel cheques."
   ]
  },
  {
   "cell_type": "code",
   "execution_count": null,
   "metadata": {},
   "outputs": [],
   "source": [
    "sns.catplot(\n",
    "    x='first_trip_tz' , \n",
    "    kind='count' , \n",
    "    data=data , \n",
    "    height=4,      \n",
    "    aspect=1.5,     \n",
    "    palette='viridis'\n",
    "    )"
   ]
  },
  {
   "cell_type": "markdown",
   "metadata": {},
   "source": [
    "- Most visitors (almost half) of first time trip are notinterested in visiting again after first trip"
   ]
  },
  {
   "cell_type": "code",
   "execution_count": null,
   "metadata": {},
   "outputs": [],
   "source": [
    "sns.catplot(\n",
    "    x='most_impressing' , \n",
    "    kind='count' , \n",
    "    data=data , \n",
    "    height=6,      \n",
    "    aspect=3.5,     \n",
    "    palette='viridis'\n",
    "    )"
   ]
  },
  {
   "cell_type": "markdown",
   "metadata": {},
   "source": [
    "Most visitors are impressed with how friendly people are"
   ]
  },
  {
   "cell_type": "code",
   "execution_count": null,
   "metadata": {},
   "outputs": [],
   "source": [
    "# Calculate min and max cost values first\n",
    "min_cost = data['total_cost'].min()\n",
    "max_cost = data['total_cost'].max()\n",
    "\n",
    "print(f\"Minimum cost: {min_cost}\")\n",
    "print(f\"Maximum cost: {max_cost}\")\n",
    "\n",
    "bins = np.linspace(min_cost, max_cost, 6)  # 5 equal ranges\n",
    "labels = [f\"{int(bins[i])}-{int(bins[i+1])}\" for i in range(len(bins)-1)]\n",
    "\n",
    "data['cost_range'] = pd.cut(data['total_cost'], bins=bins, labels=labels)\n",
    "\n",
    "plt.figure(figsize=(16, 6))\n",
    "sns.countplot(x='cost_range', data=data, palette='magma')\n",
    "plt.title(\"Visitor Count by Spending Ranges\")\n",
    "plt.xlabel(\"Spending Range (Min–Max Bins)\")\n",
    "plt.ylabel(\"Number of Visitors\")\n",
    "plt.show()"
   ]
  },
  {
   "cell_type": "markdown",
   "metadata": {},
   "source": [
    "- Most visitors can afford costs at most 19,945,775 "
   ]
  },
  {
   "cell_type": "code",
   "execution_count": null,
   "metadata": {},
   "outputs": [],
   "source": [
    "service_counts = data.package_services.value_counts()\n",
    "\n",
    "plt.figure(figsize=(30, 60))\n",
    "sns.barplot(x=service_counts.values, y=service_counts.index, palette=\"magma\")\n",
    "plt.title(\"Most Chosen Package Services\")\n",
    "plt.xlabel(\"Number of Visitors\")\n",
    "plt.ylabel(\"Service Type\")\n",
    "plt.show()"
   ]
  },
  {
   "cell_type": "markdown",
   "metadata": {},
   "source": [
    "##### B. Bivariate Analysis\n",
    "\n",
    "Bivariate analysis is the simultaneous analysis of two variables (attributes). It explores the concept of relationship between two variables, whether there exists an association and the strength of this association, or whether there are differences between two variables and the significance of these differences.\n",
    "\n",
    "After looking at every variable individually in univariate analysis, we will now explore them again with respect to the target variable."
   ]
  },
  {
   "cell_type": "code",
   "execution_count": null,
   "metadata": {},
   "outputs": [],
   "source": [
    "#Explore region vs age_group\n",
    "plt.figure(figsize=(16, 8))  # Increased height for better visibility\n",
    "sns.countplot(x='region', hue='age_group', data=data, palette='viridis')\n",
    "\n",
    "# Add proper title and labels\n",
    "plt.title('Tourist Distribution by Region and Age Group', fontsize=16, fontweight='bold', pad=20)\n",
    "plt.xlabel('Region', fontsize=14, fontweight='bold')\n",
    "plt.ylabel('Number of Tourists', fontsize=14, fontweight='bold')\n",
    "\n",
    "# Improve x-axis labels\n",
    "plt.xticks(rotation=45, ha='right', fontsize=12)  # Rotate labels for better readability\n",
    "plt.yticks(fontsize=12)\n",
    "\n",
    "# Improve legend\n",
    "plt.legend(title='Age Group', title_fontsize=12, fontsize=11, bbox_to_anchor=(1.05, 1), loc='upper left')\n",
    "\n",
    "# Adjust layout to prevent label cutoff\n",
    "plt.tight_layout()\n",
    "plt.show()"
   ]
  },
  {
   "cell_type": "code",
   "execution_count": null,
   "metadata": {},
   "outputs": [],
   "source": [
    "#Explore region vs Travel with\n",
    "plt.figure(figsize=(16, 8))  # Increased height for better visibility\n",
    "sns.countplot(x='region', hue='travel_with', data=data, palette='viridis')\n",
    "\n",
    "# Add proper title and labels\n",
    "plt.title('Tourist Distribution by Region and Travel With', fontsize=16, fontweight='bold', pad=20)\n",
    "plt.xlabel('Region', fontsize=14, fontweight='bold')\n",
    "plt.ylabel('Number of Tourists', fontsize=14, fontweight='bold')\n",
    "\n",
    "# Improve x-axis labels\n",
    "plt.xticks(rotation=45, ha='right', fontsize=12)  # Rotate labels for better readability\n",
    "plt.yticks(fontsize=12)\n",
    "\n",
    "# Improve legend\n",
    "plt.legend(title='Travel With', title_fontsize=12, fontsize=11, bbox_to_anchor=(1.05, 1), loc='upper left')\n",
    "\n",
    "# Adjust layout to prevent label cutoff\n",
    "plt.tight_layout()\n",
    "plt.show()"
   ]
  },
  {
   "cell_type": "code",
   "execution_count": null,
   "metadata": {},
   "outputs": [],
   "source": [
    "#Explore region vs purpose\n",
    "plt.figure(figsize=(16, 8))  # Increased height for better visibility\n",
    "sns.countplot(x='region', hue='purpose', data=data, palette='viridis')\n",
    "\n",
    "# Add proper title and labels\n",
    "plt.title('Tourist Distribution by Region and Purpose', fontsize=16, fontweight='bold', pad=20)\n",
    "plt.xlabel('Region', fontsize=14, fontweight='bold')\n",
    "plt.ylabel('Number of Tourists', fontsize=14, fontweight='bold')\n",
    "\n",
    "# Improve x-axis labels\n",
    "plt.xticks(rotation=45, ha='right', fontsize=12)  # Rotate labels for better readability\n",
    "plt.yticks(fontsize=12)\n",
    "\n",
    "# Improve legend\n",
    "plt.legend(title='Purpose', title_fontsize=12, fontsize=11, bbox_to_anchor=(1.05, 1), loc='upper left')\n",
    "\n",
    "# Adjust layout to prevent label cutoff\n",
    "plt.tight_layout()\n",
    "plt.show()"
   ]
  },
  {
   "cell_type": "code",
   "execution_count": null,
   "metadata": {},
   "outputs": [],
   "source": [
    "#Explore region vs main_activity\n",
    "plt.figure(figsize=(16, 8))  # Increased height for better visibility\n",
    "sns.countplot(x='region', hue='main_activity', data=data, palette='viridis')\n",
    "\n",
    "# Add proper title and labels\n",
    "plt.title('Tourist Distribution by Region and Main Activity', fontsize=16, fontweight='bold', pad=20)\n",
    "plt.xlabel('Region', fontsize=14, fontweight='bold')\n",
    "plt.ylabel('Number of Tourists', fontsize=14, fontweight='bold')\n",
    "\n",
    "# Improve x-axis labels\n",
    "plt.xticks(rotation=45, ha='right', fontsize=12)  # Rotate labels for better readability\n",
    "plt.yticks(fontsize=12)\n",
    "\n",
    "# Improve legend\n",
    "plt.legend(title='Main Activity', title_fontsize=12, fontsize=11, bbox_to_anchor=(1.05, 1), loc='upper left')\n",
    "\n",
    "# Adjust layout to prevent label cutoff\n",
    "plt.tight_layout()\n",
    "plt.show()"
   ]
  },
  {
   "cell_type": "code",
   "execution_count": null,
   "metadata": {},
   "outputs": [],
   "source": [
    "#Explore region vs info_source\n",
    "plt.figure(figsize=(16, 8))  # Increased height for better visibility\n",
    "sns.countplot(x='region', hue='info_source', data=data, palette='viridis')\n",
    "\n",
    "# Add proper title and labels\n",
    "plt.title('Tourist Distribution by Region and Info Source', fontsize=16, fontweight='bold', pad=20)\n",
    "plt.xlabel('Region', fontsize=14, fontweight='bold')\n",
    "plt.ylabel('Number of Tourists', fontsize=14, fontweight='bold')\n",
    "\n",
    "# Improve x-axis labels\n",
    "plt.xticks(rotation=45, ha='right', fontsize=12)  # Rotate labels for better readability\n",
    "plt.yticks(fontsize=12)\n",
    "\n",
    "# Improve legend\n",
    "plt.legend(title='Info Source', title_fontsize=12, fontsize=11, bbox_to_anchor=(1.05, 1), loc='upper left')\n",
    "\n",
    "# Adjust layout to prevent label cutoff\n",
    "plt.tight_layout()\n",
    "plt.show()"
   ]
  },
  {
   "cell_type": "code",
   "execution_count": null,
   "metadata": {},
   "outputs": [],
   "source": [
    "#Explore region vs tour_arrangement\n",
    "plt.figure(figsize=(16, 8))  # Increased height for better visibility\n",
    "sns.countplot(x='region', hue='tour_arrangement', data=data, palette='viridis')\n",
    "\n",
    "# Add proper title and labels\n",
    "plt.title('Tourist Distribution by Region and Tour Arrangement', fontsize=16, fontweight='bold', pad=20)\n",
    "plt.xlabel('Region', fontsize=14, fontweight='bold')\n",
    "plt.ylabel('Number of Tourists', fontsize=14, fontweight='bold')\n",
    "\n",
    "# Improve x-axis labels\n",
    "plt.xticks(rotation=45, ha='right', fontsize=12)  # Rotate labels for better readability\n",
    "plt.yticks(fontsize=12)\n",
    "\n",
    "# Improve legend\n",
    "plt.legend(title='Tour Arrangement', title_fontsize=12, fontsize=11, bbox_to_anchor=(1.05, 1), loc='upper left')\n",
    "\n",
    "# Adjust layout to prevent label cutoff\n",
    "plt.tight_layout()\n",
    "plt.show()"
   ]
  },
  {
   "cell_type": "code",
   "execution_count": null,
   "metadata": {},
   "outputs": [],
   "source": [
    "# Create night categories for better visualization\n",
    "def categorize_nights(nights):\n",
    "    if nights == 0:\n",
    "        return '0 nights'\n",
    "    elif nights <= 3:\n",
    "        return '1-3 nights'\n",
    "    elif nights <= 7:\n",
    "        return '4-7 nights'\n",
    "    elif nights <= 14:\n",
    "        return '8-14 nights'\n",
    "    elif nights <= 30:\n",
    "        return '15-30 nights'\n",
    "    else:\n",
    "        return '30+ nights'\n",
    "\n",
    "# Apply categorization\n",
    "data['night_mainland_category'] = data['night_mainland'].apply(categorize_nights)\n",
    "\n",
    "# Now visualize\n",
    "plt.figure(figsize=(16, 8))\n",
    "sns.countplot(x='region', hue='night_mainland_category', data=data, palette='viridis')\n",
    "\n",
    "plt.title('Tourist Distribution by Region and Length of Stay on Mainland', fontsize=16, fontweight='bold', pad=20)\n",
    "plt.xlabel('Region', fontsize=14, fontweight='bold')\n",
    "plt.ylabel('Number of Tourists', fontsize=14, fontweight='bold')\n",
    "plt.xticks(rotation=45, ha='right', fontsize=12)\n",
    "plt.yticks(fontsize=12)\n",
    "plt.legend(title='Length of Stay', title_fontsize=12, fontsize=11, bbox_to_anchor=(1.05, 1), loc='upper left')\n",
    "plt.tight_layout()\n",
    "plt.show()"
   ]
  },
  {
   "cell_type": "code",
   "execution_count": null,
   "metadata": {},
   "outputs": [],
   "source": [
    "# Create night categories for better visualization\n",
    "def categorize_nights(nights):\n",
    "    if nights == 0:\n",
    "        return '0 nights'\n",
    "    elif nights <= 3:\n",
    "        return '1-3 nights'\n",
    "    elif nights <= 7:\n",
    "        return '4-7 nights'\n",
    "    elif nights <= 14:\n",
    "        return '8-14 nights'\n",
    "    elif nights <= 30:\n",
    "        return '15-30 nights'\n",
    "    else:\n",
    "        return '30+ nights'\n",
    "\n",
    "# Apply categorization\n",
    "data['night_zanzibar_category'] = data['night_zanzibar'].apply(categorize_nights)\n",
    "\n",
    "# Now visualize\n",
    "plt.figure(figsize=(16, 8))\n",
    "sns.countplot(x='region', hue='night_zanzibar_category', data=data, palette='viridis')\n",
    "\n",
    "plt.title('Tourist Distribution by Region and Length of Stay on zanzibar', fontsize=16, fontweight='bold', pad=20)\n",
    "plt.xlabel('Region', fontsize=14, fontweight='bold')\n",
    "plt.ylabel('Number of Tourists', fontsize=14, fontweight='bold')\n",
    "plt.xticks(rotation=45, ha='right', fontsize=12)\n",
    "plt.yticks(fontsize=12)\n",
    "plt.legend(title='Length of Stay', title_fontsize=12, fontsize=11, bbox_to_anchor=(1.05, 1), loc='upper left')\n",
    "plt.tight_layout()\n",
    "plt.show()"
   ]
  },
  {
   "cell_type": "code",
   "execution_count": null,
   "metadata": {},
   "outputs": [],
   "source": [
    "#Explore region vs payment_mode\n",
    "plt.figure(figsize=(16, 8))  # Increased height for better visibility\n",
    "sns.countplot(x='region', hue='payment_mode', data=data, palette='viridis')\n",
    "\n",
    "# Add proper title and labels\n",
    "plt.title('Tourist Distribution by Region and Payment Mode', fontsize=16, fontweight='bold', pad=20)\n",
    "plt.xlabel('Region', fontsize=14, fontweight='bold')\n",
    "plt.ylabel('Number of Tourists', fontsize=14, fontweight='bold')\n",
    "\n",
    "# Improve x-axis labels\n",
    "plt.xticks(rotation=45, ha='right', fontsize=12)  # Rotate labels for better readability\n",
    "plt.yticks(fontsize=12)\n",
    "\n",
    "# Improve legend\n",
    "plt.legend(title='Payment Mode', title_fontsize=12, fontsize=11, bbox_to_anchor=(1.05, 1), loc='upper left')\n",
    "\n",
    "# Adjust layout to prevent label cutoff\n",
    "plt.tight_layout()\n",
    "plt.show()"
   ]
  },
  {
   "cell_type": "code",
   "execution_count": null,
   "metadata": {},
   "outputs": [],
   "source": [
    "#Explore region vs first_trip_tz\n",
    "plt.figure(figsize=(16, 8))  # Increased height for better visibility\n",
    "sns.countplot(x='region', hue='first_trip_tz', data=data, palette='viridis')\n",
    "\n",
    "# Add proper title and labels\n",
    "plt.title('Tourist Distribution by Region and First Trip Tz', fontsize=16, fontweight='bold', pad=20)\n",
    "plt.xlabel('Region', fontsize=14, fontweight='bold')\n",
    "plt.ylabel('Number of Tourists', fontsize=14, fontweight='bold')\n",
    "\n",
    "# Improve x-axis labels\n",
    "plt.xticks(rotation=45, ha='right', fontsize=12)  # Rotate labels for better readability\n",
    "plt.yticks(fontsize=12)\n",
    "\n",
    "# Improve legend\n",
    "plt.legend(title='First Trip Tz', title_fontsize=12, fontsize=11, bbox_to_anchor=(1.05, 1), loc='upper left')\n",
    "\n",
    "# Adjust layout to prevent label cutoff\n",
    "plt.tight_layout()\n",
    "plt.show()"
   ]
  },
  {
   "cell_type": "code",
   "execution_count": null,
   "metadata": {},
   "outputs": [],
   "source": [
    "#Explore region vs most_impressing\n",
    "plt.figure(figsize=(16, 8))  # Increased height for better visibility\n",
    "sns.countplot(x='region', hue='most_impressing', data=data, palette='viridis')\n",
    "\n",
    "# Add proper title and labels\n",
    "plt.title('Tourist Distribution by Region and Most Impressing', fontsize=16, fontweight='bold', pad=20)\n",
    "plt.xlabel('Region', fontsize=14, fontweight='bold')\n",
    "plt.ylabel('Number of Tourists', fontsize=14, fontweight='bold')\n",
    "\n",
    "# Improve x-axis labels\n",
    "plt.xticks(rotation=45, ha='right', fontsize=12)  # Rotate labels for better readability\n",
    "plt.yticks(fontsize=12)\n",
    "\n",
    "# Improve legend\n",
    "plt.legend(title='Most Impressing', title_fontsize=12, fontsize=11, bbox_to_anchor=(1.05, 1), loc='upper left')\n",
    "\n",
    "# Adjust layout to prevent label cutoff\n",
    "plt.tight_layout()\n",
    "plt.show()"
   ]
  },
  {
   "cell_type": "code",
   "execution_count": null,
   "metadata": {},
   "outputs": [],
   "source": [
    "# Create simplified package categories\n",
    "def simplify_package_services(package_str):\n",
    "    if package_str == 'None':\n",
    "        return 'No Package'\n",
    "    elif ',' in package_str:\n",
    "        # Count number of services\n",
    "        service_count = len(package_str.split(','))\n",
    "        if service_count <= 2:\n",
    "            return 'Basic Package (1-2 services)'\n",
    "        elif service_count <= 4:\n",
    "            return 'Standard Package (3-4 services)'\n",
    "        else:\n",
    "            return 'Premium Package (5+ services)'\n",
    "    else:\n",
    "        return 'Single Service'\n",
    "\n",
    "# Apply simplification\n",
    "data['package_category'] = data['package_services'].apply(simplify_package_services)\n",
    "\n",
    "# Now visualize\n",
    "plt.figure(figsize=(16, 8))\n",
    "sns.countplot(x='region', hue='package_category', data=data, palette='viridis')\n",
    "\n",
    "plt.title('Tourist Distribution by Region and Package Type', fontsize=16, fontweight='bold', pad=20)\n",
    "plt.xlabel('Region', fontsize=14, fontweight='bold')\n",
    "plt.ylabel('Number of Tourists', fontsize=14, fontweight='bold')\n",
    "plt.xticks(rotation=45, ha='right', fontsize=12)\n",
    "plt.yticks(fontsize=12)\n",
    "plt.legend(title='Package Type', title_fontsize=12, fontsize=11, bbox_to_anchor=(1.05, 1), loc='upper left')\n",
    "plt.tight_layout()\n",
    "plt.show()"
   ]
  },
  {
   "cell_type": "code",
   "execution_count": null,
   "metadata": {},
   "outputs": [],
   "source": [
    "#Explore region vs cost_range\n",
    "plt.figure(figsize=(16, 8))  # Increased height for better visibility\n",
    "sns.countplot(x='region', hue='cost_range', data=data, palette='viridis')\n",
    "\n",
    "# Add proper title and labels\n",
    "plt.title('Tourist Distribution by Region and Cost Range', fontsize=16, fontweight='bold', pad=20)\n",
    "plt.xlabel('Region', fontsize=14, fontweight='bold')\n",
    "plt.ylabel('Number of Tourists', fontsize=14, fontweight='bold')\n",
    "\n",
    "# Improve x-axis labels\n",
    "plt.xticks(rotation=45, ha='right', fontsize=12)  # Rotate labels for better readability\n",
    "plt.yticks(fontsize=12)\n",
    "\n",
    "# Improve legend\n",
    "plt.legend(title='Cost Range', title_fontsize=12, fontsize=11, bbox_to_anchor=(1.05, 1), loc='upper left')\n",
    "\n",
    "# Adjust layout to prevent label cutoff\n",
    "plt.tight_layout()\n",
    "plt.show()"
   ]
  },
  {
   "cell_type": "code",
   "execution_count": null,
   "metadata": {},
   "outputs": [],
   "source": [
    "data"
   ]
  },
  {
   "cell_type": "markdown",
   "metadata": {},
   "source": []
  },
  {
   "cell_type": "markdown",
   "metadata": {},
   "source": [
    "#### **Our Hypothesis Results**\n",
    "\n",
    "\n",
    "- Young adults are more likely to visit Tanzania compared to other age groups **TRUE**\n",
    "- Visitors are more likely to travel alone or with their spouse rather than with children **TRUE**\n",
    "- Most visitors travel to Tanzania primarily for leisure and holidays rather than business or visiting friends and relatives **TRUE**\n",
    "- Tour Visitors prefer wildlife and beach tourism over cultural or business-related tourism **TRUE**\n",
    "- Tourists are more likely to learn about Tanzania through travel agents, friends, or relatives than through TV, radio, web platforms, magazines, or Tanzanian missions abroad **TRUE**\n",
    "- Visitors prefer arranging tours independently rather than opting for package tours **TRUE**\n",
    "-  Cash is the most common mode of payment among visitors, compared to credit cards or travelers' cheques **TRUE**\n",
    "- A majority of visitors are on their first trip to Tanzania rather than being repeatedly travelers **TRUE**\n",
    "- Visitors are more likely to appreciate the friendliness of Tanzanians compared to giving feedback on experiences or overall satisfaction **TRUE**\n",
    "- Most visitors prefer reasonably priced services rather than low-cost or high-cost options **TRUE**\n",
    "- The typical length of stay for visitors is up to two weeks **TRUE**\n",
    "- Destinat Visitors spend more time in Zanzibar than on mainland Tanzania **TRUE**\n",
    "- Most visitors prefer not to use package services **TRUE**\n",
    "\n"
   ]
  },
  {
   "cell_type": "code",
   "execution_count": null,
   "metadata": {},
   "outputs": [],
   "source": [
    "data"
   ]
  },
  {
   "cell_type": "markdown",
   "metadata": {},
   "source": [
    "### **5. Data Profiling Package**"
   ]
  },
  {
   "cell_type": "markdown",
   "metadata": {},
   "source": [
    "**Profiling** is a process that helps us in understanding our data and Pandas Profiling is python package which does exactly that. It is a simple and fast way to perform exploratory data analysis of a Pandas Dataframe.\n",
    "\n",
    "The pandas **df.describe()** and **df.info()** functions are normally used as a first step in the EDA process. However, it only gives a very basic overview of the data and doesn’t help much in the case of large data sets. The Pandas Profiling function, on the other hand, extends the pandas DataFrame with **df.profile_report()** for quick data analysis.\n",
    "\n",
    "Pandas profiling generates a complete report for your dataset, which includes:\n",
    "- Basic data type information\n",
    "- Descriptive statistics (mean,median etc.)\n",
    "- Common and Extreme Values\n",
    "- Quantile statistics (tells you about how your data is distributed)\n",
    "- Histograms for your data (again, for visualizing distributions)\n",
    "- Correlations (Show features that are related)\n",
    "- Missing values\n"
   ]
  },
  {
   "cell_type": "markdown",
   "metadata": {},
   "source": [
    "#### how to install the packate"
   ]
  },
  {
   "cell_type": "markdown",
   "metadata": {},
   "source": [
    "You can install using the pip package manager by running"
   ]
  },
  {
   "cell_type": "code",
   "execution_count": null,
   "metadata": {},
   "outputs": [],
   "source": [
    "from ydata_profiling import ProfileReport  # or from pandas_profiling import ProfileReport if using older version\n",
    "\n",
    "profile = ProfileReport(df, title=\"Pandas Profiling Report\", explorative=True)\n",
    "profile.to_file(\"tourism_data_report.html\")\n"
   ]
  }
 ],
 "metadata": {
  "kernelspec": {
   "display_name": "venv",
   "language": "python",
   "name": "python3"
  },
  "language_info": {
   "codemirror_mode": {
    "name": "ipython",
    "version": 3
   },
   "file_extension": ".py",
   "mimetype": "text/x-python",
   "name": "python",
   "nbconvert_exporter": "python",
   "pygments_lexer": "ipython3",
   "version": "3.13.5"
  }
 },
 "nbformat": 4,
 "nbformat_minor": 4
}
